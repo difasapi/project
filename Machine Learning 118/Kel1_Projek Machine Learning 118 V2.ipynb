{
 "cells": [
  {
   "cell_type": "markdown",
   "id": "6bd53308",
   "metadata": {
    "papermill": {
     "duration": 0.014743,
     "end_time": "2023-06-17T03:19:04.345187",
     "exception": false,
     "start_time": "2023-06-17T03:19:04.330444",
     "status": "completed"
    },
    "tags": []
   },
   "source": [
    "# Klasifikasi Tingkat Obesitas Berdasarkan Body Mass Index dengan Menggunakan Metode Random Forest Classifier"
   ]
  },
  {
   "cell_type": "markdown",
   "id": "dad8520f",
   "metadata": {
    "papermill": {
     "duration": 0.011174,
     "end_time": "2023-06-17T03:19:04.368190",
     "exception": false,
     "start_time": "2023-06-17T03:19:04.357016",
     "status": "completed"
    },
    "tags": []
   },
   "source": [
    "- KELOMPOK 1:\n",
    "  - Difa Farhani Hakim (1306620040)\n",
    "  - Huffaz Muhammad Abdurrofi Baith (1306620075)\n",
    "  - Muhammad Rizky Anugrah (1306620089)\n",
    "- Kelas          : Fisika - B\n",
    "- Angkatan       : 2020\n",
    "- Dosen Pengampu : Dr.rer.nat. Bambang Heru Iswanto"
   ]
  },
  {
   "cell_type": "markdown",
   "id": "bd839d3b",
   "metadata": {
    "papermill": {
     "duration": 0.010991,
     "end_time": "2023-06-17T03:19:04.390502",
     "exception": false,
     "start_time": "2023-06-17T03:19:04.379511",
     "status": "completed"
    },
    "tags": []
   },
   "source": [
    "# METADATA"
   ]
  },
  {
   "cell_type": "markdown",
   "id": "19ebfe98",
   "metadata": {
    "papermill": {
     "duration": 0.011022,
     "end_time": "2023-06-17T03:19:04.413692",
     "exception": false,
     "start_time": "2023-06-17T03:19:04.402670",
     "status": "completed"
    },
    "tags": []
   },
   "source": [
    "- Data didapatkan dari kaggle dengan link sebagai berikut:\n",
    "  https://www.kaggle.com/datasets/ankurbajaj9/obesity-levels\n",
    "- Memiliki 2 data dengan format .arff dan .csv\n",
    "- Judul data nya ialah ObesityDataSet_raw_and_data_sinthetic.arff dan ObesityDataSet_raw_and_data_sinthetic.csv\n",
    "- Dataset ini berisi data tentang obesitas pada individu dari Kolombia, Peru, dan Meksiko. Dataset ini terdiri dari 17 atribut dan 2111 rekaman. Rekaman tersebut diberi label dengan variabel kelas NObesity (Tingkat Obesitas) yang memungkinkan klasifikasi data.\n",
    "- Dataset ini dihasilkan dari penelitian yang bertujuan untuk memprediksi tingkat obesitas pada individu berdasarkan kebiasaan makan dan kondisi fisiknya. Penelitian ini dilakukan pada individu dari tiga negara yaitu Kolombia, Peru, dan Meksiko. Dataset ini terdiri dari 2111 rekaman dengan 17 atribut yang meliputi jenis kelamin, usia, tinggi badan, berat badan, riwayat keluarga yang mengalami obesitas, frekuensi konsumsi makanan kalori tinggi, frekuensi konsumsi sayuran, jumlah makan utama dalam sehari, konsumsi makanan di antara waktu makan utama, kebiasaan merokok, konsumsi air putih harian, pemantauan konsumsi kalori, frekuensi aktivitas fisik, waktu penggunaan perangkat teknologi, konsumsi alkohol dan jenis transportasi yang digunakan.\n",
    "- Owner dataset ini adalah Ankur Bajaj (Owner).\n",
    "- Ukuran data yaitu 2111 baris dan 17 kolom.\n",
    "- Terdiri dari 16 features dan 1 data label atau target.\n",
    "\n",
    "Attribute Information\n",
    "1. Gender\n",
    "2. Age\n",
    "3. Height\n",
    "4. Weight\n",
    "5. family_history_with_overweight\n",
    "6. FAVC (Frecuent consumption of high caloric foods)\n",
    "7. FCVC (Frequency of consumption of vegetables)\n",
    "8. NCP (Number of main meals)\n",
    "9. CAEC (Consumption of food between meals)\n",
    "10. SMOKE (Smoking habit)\n",
    "11. CH2O (Consumption of water daily)\n",
    "12. SCC (Calories consumption monitoring)\n",
    "13. FAF (Physical activity frequency)\n",
    "14. TUE (Time using technology devices)\n",
    "15. CALC (Consumption of alcohol)\n",
    "16. MTRANS (Transportation used)\n",
    "17. NObeyesdad (Number of Obesity Diseases)"
   ]
  },
  {
   "cell_type": "markdown",
   "id": "bee66eb1",
   "metadata": {
    "papermill": {
     "duration": 0.011289,
     "end_time": "2023-06-17T03:19:04.436521",
     "exception": false,
     "start_time": "2023-06-17T03:19:04.425232",
     "status": "completed"
    },
    "tags": []
   },
   "source": [
    "# IMPORT"
   ]
  },
  {
   "cell_type": "code",
   "execution_count": 1,
   "id": "ade637d0",
   "metadata": {
    "_cell_guid": "b1076dfc-b9ad-4769-8c92-a6c4dae69d19",
    "_uuid": "8f2839f25d086af736a60e9eeb907d3b93b6e0e5",
    "execution": {
     "iopub.execute_input": "2023-06-17T03:19:04.461605Z",
     "iopub.status.busy": "2023-06-17T03:19:04.460878Z",
     "iopub.status.idle": "2023-06-17T03:19:05.926335Z",
     "shell.execute_reply": "2023-06-17T03:19:05.925298Z"
    },
    "papermill": {
     "duration": 1.481013,
     "end_time": "2023-06-17T03:19:05.928998",
     "exception": false,
     "start_time": "2023-06-17T03:19:04.447985",
     "status": "completed"
    },
    "tags": []
   },
   "outputs": [],
   "source": [
    "import numpy as np \n",
    "import pandas as pd\n",
    "import matplotlib.pyplot as plt\n",
    "import seaborn as sns\n",
    "import math\n",
    "\n",
    "plt.style.use('ggplot')\n",
    "pd.set_option('max_columns', 100)\n",
    "\n",
    "\n",
    "from sklearn.preprocessing import StandardScaler\n",
    "from sklearn.model_selection import train_test_split, cross_validate\n",
    "from sklearn.preprocessing import OrdinalEncoder\n",
    "from sklearn.metrics import accuracy_score\n",
    "from sklearn.pipeline import Pipeline\n",
    "\n",
    "from sklearn.preprocessing import MinMaxScaler\n",
    "from sklearn.model_selection import train_test_split\n",
    "from sklearn.ensemble import RandomForestClassifier\n",
    "from sklearn.metrics import classification_report, confusion_matrix\n",
    "\n",
    "from sklearn.model_selection import RandomizedSearchCV\n",
    "from sklearn.model_selection import GridSearchCV"
   ]
  },
  {
   "cell_type": "code",
   "execution_count": 2,
   "id": "5f7447a5",
   "metadata": {
    "execution": {
     "iopub.execute_input": "2023-06-17T03:19:05.953907Z",
     "iopub.status.busy": "2023-06-17T03:19:05.953561Z",
     "iopub.status.idle": "2023-06-17T03:19:05.985427Z",
     "shell.execute_reply": "2023-06-17T03:19:05.984315Z"
    },
    "papermill": {
     "duration": 0.047473,
     "end_time": "2023-06-17T03:19:05.988089",
     "exception": false,
     "start_time": "2023-06-17T03:19:05.940616",
     "status": "completed"
    },
    "tags": []
   },
   "outputs": [],
   "source": [
    "file_path = 'ObesityDataSet_raw_and_data_sinthetic.csv'\n",
    "data = pd.read_csv(file_path)"
   ]
  },
  {
   "cell_type": "markdown",
   "id": "28fd5427",
   "metadata": {
    "papermill": {
     "duration": 0.011101,
     "end_time": "2023-06-17T03:19:06.010751",
     "exception": false,
     "start_time": "2023-06-17T03:19:05.999650",
     "status": "completed"
    },
    "tags": []
   },
   "source": [
    "# Preprocessing and Exploratory Data Analysis (EDA)"
   ]
  },
  {
   "cell_type": "markdown",
   "id": "83e4bf58",
   "metadata": {
    "papermill": {
     "duration": 0.01099,
     "end_time": "2023-06-17T03:19:06.033135",
     "exception": false,
     "start_time": "2023-06-17T03:19:06.022145",
     "status": "completed"
    },
    "tags": []
   },
   "source": [
    "# Preprocessing"
   ]
  },
  {
   "cell_type": "code",
   "execution_count": 3,
   "id": "f3dfa0dd",
   "metadata": {
    "execution": {
     "iopub.execute_input": "2023-06-17T03:19:06.057857Z",
     "iopub.status.busy": "2023-06-17T03:19:06.057317Z",
     "iopub.status.idle": "2023-06-17T03:19:06.067177Z",
     "shell.execute_reply": "2023-06-17T03:19:06.066418Z"
    },
    "papermill": {
     "duration": 0.024839,
     "end_time": "2023-06-17T03:19:06.069452",
     "exception": false,
     "start_time": "2023-06-17T03:19:06.044613",
     "status": "completed"
    },
    "tags": []
   },
   "outputs": [],
   "source": [
    "data = data.rename(columns={'family_history_with_overweight': 'FHWO',\n",
    "                           'NObeyesdad' : 'BMI',})"
   ]
  },
  {
   "cell_type": "code",
   "execution_count": 4,
   "id": "60963fd0",
   "metadata": {
    "execution": {
     "iopub.execute_input": "2023-06-17T03:19:06.094134Z",
     "iopub.status.busy": "2023-06-17T03:19:06.093590Z",
     "iopub.status.idle": "2023-06-17T03:19:06.100345Z",
     "shell.execute_reply": "2023-06-17T03:19:06.099445Z"
    },
    "papermill": {
     "duration": 0.021417,
     "end_time": "2023-06-17T03:19:06.102362",
     "exception": false,
     "start_time": "2023-06-17T03:19:06.080945",
     "status": "completed"
    },
    "tags": []
   },
   "outputs": [
    {
     "data": {
      "text/plain": [
       "(2111, 17)"
      ]
     },
     "execution_count": 4,
     "metadata": {},
     "output_type": "execute_result"
    }
   ],
   "source": [
    "data.shape"
   ]
  },
  {
   "cell_type": "code",
   "execution_count": 5,
   "id": "9613d0c1",
   "metadata": {
    "execution": {
     "iopub.execute_input": "2023-06-17T03:19:06.127172Z",
     "iopub.status.busy": "2023-06-17T03:19:06.126581Z",
     "iopub.status.idle": "2023-06-17T03:19:06.154621Z",
     "shell.execute_reply": "2023-06-17T03:19:06.153527Z"
    },
    "papermill": {
     "duration": 0.042846,
     "end_time": "2023-06-17T03:19:06.156721",
     "exception": false,
     "start_time": "2023-06-17T03:19:06.113875",
     "status": "completed"
    },
    "tags": []
   },
   "outputs": [
    {
     "data": {
      "text/html": [
       "<div>\n",
       "<style scoped>\n",
       "    .dataframe tbody tr th:only-of-type {\n",
       "        vertical-align: middle;\n",
       "    }\n",
       "\n",
       "    .dataframe tbody tr th {\n",
       "        vertical-align: top;\n",
       "    }\n",
       "\n",
       "    .dataframe thead th {\n",
       "        text-align: right;\n",
       "    }\n",
       "</style>\n",
       "<table border=\"1\" class=\"dataframe\">\n",
       "  <thead>\n",
       "    <tr style=\"text-align: right;\">\n",
       "      <th></th>\n",
       "      <th>Gender</th>\n",
       "      <th>Age</th>\n",
       "      <th>Height</th>\n",
       "      <th>Weight</th>\n",
       "      <th>FHWO</th>\n",
       "      <th>FAVC</th>\n",
       "      <th>FCVC</th>\n",
       "      <th>NCP</th>\n",
       "      <th>CAEC</th>\n",
       "      <th>SMOKE</th>\n",
       "      <th>CH2O</th>\n",
       "      <th>SCC</th>\n",
       "      <th>FAF</th>\n",
       "      <th>TUE</th>\n",
       "      <th>CALC</th>\n",
       "      <th>MTRANS</th>\n",
       "      <th>BMI</th>\n",
       "    </tr>\n",
       "  </thead>\n",
       "  <tbody>\n",
       "    <tr>\n",
       "      <th>0</th>\n",
       "      <td>Female</td>\n",
       "      <td>21.0</td>\n",
       "      <td>1.62</td>\n",
       "      <td>64.0</td>\n",
       "      <td>yes</td>\n",
       "      <td>no</td>\n",
       "      <td>2.0</td>\n",
       "      <td>3.0</td>\n",
       "      <td>Sometimes</td>\n",
       "      <td>no</td>\n",
       "      <td>2.0</td>\n",
       "      <td>no</td>\n",
       "      <td>0.0</td>\n",
       "      <td>1.0</td>\n",
       "      <td>no</td>\n",
       "      <td>Public_Transportation</td>\n",
       "      <td>Normal_Weight</td>\n",
       "    </tr>\n",
       "    <tr>\n",
       "      <th>1</th>\n",
       "      <td>Female</td>\n",
       "      <td>21.0</td>\n",
       "      <td>1.52</td>\n",
       "      <td>56.0</td>\n",
       "      <td>yes</td>\n",
       "      <td>no</td>\n",
       "      <td>3.0</td>\n",
       "      <td>3.0</td>\n",
       "      <td>Sometimes</td>\n",
       "      <td>yes</td>\n",
       "      <td>3.0</td>\n",
       "      <td>yes</td>\n",
       "      <td>3.0</td>\n",
       "      <td>0.0</td>\n",
       "      <td>Sometimes</td>\n",
       "      <td>Public_Transportation</td>\n",
       "      <td>Normal_Weight</td>\n",
       "    </tr>\n",
       "    <tr>\n",
       "      <th>2</th>\n",
       "      <td>Male</td>\n",
       "      <td>23.0</td>\n",
       "      <td>1.80</td>\n",
       "      <td>77.0</td>\n",
       "      <td>yes</td>\n",
       "      <td>no</td>\n",
       "      <td>2.0</td>\n",
       "      <td>3.0</td>\n",
       "      <td>Sometimes</td>\n",
       "      <td>no</td>\n",
       "      <td>2.0</td>\n",
       "      <td>no</td>\n",
       "      <td>2.0</td>\n",
       "      <td>1.0</td>\n",
       "      <td>Frequently</td>\n",
       "      <td>Public_Transportation</td>\n",
       "      <td>Normal_Weight</td>\n",
       "    </tr>\n",
       "    <tr>\n",
       "      <th>3</th>\n",
       "      <td>Male</td>\n",
       "      <td>27.0</td>\n",
       "      <td>1.80</td>\n",
       "      <td>87.0</td>\n",
       "      <td>no</td>\n",
       "      <td>no</td>\n",
       "      <td>3.0</td>\n",
       "      <td>3.0</td>\n",
       "      <td>Sometimes</td>\n",
       "      <td>no</td>\n",
       "      <td>2.0</td>\n",
       "      <td>no</td>\n",
       "      <td>2.0</td>\n",
       "      <td>0.0</td>\n",
       "      <td>Frequently</td>\n",
       "      <td>Walking</td>\n",
       "      <td>Overweight_Level_I</td>\n",
       "    </tr>\n",
       "    <tr>\n",
       "      <th>4</th>\n",
       "      <td>Male</td>\n",
       "      <td>22.0</td>\n",
       "      <td>1.78</td>\n",
       "      <td>89.8</td>\n",
       "      <td>no</td>\n",
       "      <td>no</td>\n",
       "      <td>2.0</td>\n",
       "      <td>1.0</td>\n",
       "      <td>Sometimes</td>\n",
       "      <td>no</td>\n",
       "      <td>2.0</td>\n",
       "      <td>no</td>\n",
       "      <td>0.0</td>\n",
       "      <td>0.0</td>\n",
       "      <td>Sometimes</td>\n",
       "      <td>Public_Transportation</td>\n",
       "      <td>Overweight_Level_II</td>\n",
       "    </tr>\n",
       "  </tbody>\n",
       "</table>\n",
       "</div>"
      ],
      "text/plain": [
       "   Gender   Age  Height  Weight FHWO FAVC  FCVC  NCP       CAEC SMOKE  CH2O  \\\n",
       "0  Female  21.0    1.62    64.0  yes   no   2.0  3.0  Sometimes    no   2.0   \n",
       "1  Female  21.0    1.52    56.0  yes   no   3.0  3.0  Sometimes   yes   3.0   \n",
       "2    Male  23.0    1.80    77.0  yes   no   2.0  3.0  Sometimes    no   2.0   \n",
       "3    Male  27.0    1.80    87.0   no   no   3.0  3.0  Sometimes    no   2.0   \n",
       "4    Male  22.0    1.78    89.8   no   no   2.0  1.0  Sometimes    no   2.0   \n",
       "\n",
       "   SCC  FAF  TUE        CALC                 MTRANS                  BMI  \n",
       "0   no  0.0  1.0          no  Public_Transportation        Normal_Weight  \n",
       "1  yes  3.0  0.0   Sometimes  Public_Transportation        Normal_Weight  \n",
       "2   no  2.0  1.0  Frequently  Public_Transportation        Normal_Weight  \n",
       "3   no  2.0  0.0  Frequently                Walking   Overweight_Level_I  \n",
       "4   no  0.0  0.0   Sometimes  Public_Transportation  Overweight_Level_II  "
      ]
     },
     "execution_count": 5,
     "metadata": {},
     "output_type": "execute_result"
    }
   ],
   "source": [
    "data.head()"
   ]
  },
  {
   "cell_type": "code",
   "execution_count": 6,
   "id": "3388c8ac",
   "metadata": {
    "execution": {
     "iopub.execute_input": "2023-06-17T03:19:06.181537Z",
     "iopub.status.busy": "2023-06-17T03:19:06.181175Z",
     "iopub.status.idle": "2023-06-17T03:19:06.203669Z",
     "shell.execute_reply": "2023-06-17T03:19:06.202686Z"
    },
    "papermill": {
     "duration": 0.03703,
     "end_time": "2023-06-17T03:19:06.205488",
     "exception": false,
     "start_time": "2023-06-17T03:19:06.168458",
     "status": "completed"
    },
    "tags": []
   },
   "outputs": [
    {
     "name": "stdout",
     "output_type": "stream",
     "text": [
      "<class 'pandas.core.frame.DataFrame'>\n",
      "RangeIndex: 2111 entries, 0 to 2110\n",
      "Data columns (total 17 columns):\n",
      " #   Column  Non-Null Count  Dtype  \n",
      "---  ------  --------------  -----  \n",
      " 0   Gender  2111 non-null   object \n",
      " 1   Age     2111 non-null   float64\n",
      " 2   Height  2111 non-null   float64\n",
      " 3   Weight  2111 non-null   float64\n",
      " 4   FHWO    2111 non-null   object \n",
      " 5   FAVC    2111 non-null   object \n",
      " 6   FCVC    2111 non-null   float64\n",
      " 7   NCP     2111 non-null   float64\n",
      " 8   CAEC    2111 non-null   object \n",
      " 9   SMOKE   2111 non-null   object \n",
      " 10  CH2O    2111 non-null   float64\n",
      " 11  SCC     2111 non-null   object \n",
      " 12  FAF     2111 non-null   float64\n",
      " 13  TUE     2111 non-null   float64\n",
      " 14  CALC    2111 non-null   object \n",
      " 15  MTRANS  2111 non-null   object \n",
      " 16  BMI     2111 non-null   object \n",
      "dtypes: float64(8), object(9)\n",
      "memory usage: 280.5+ KB\n"
     ]
    }
   ],
   "source": [
    "data.info()"
   ]
  },
  {
   "cell_type": "code",
   "execution_count": 7,
   "id": "512ae2b8",
   "metadata": {
    "execution": {
     "iopub.execute_input": "2023-06-17T03:19:06.230904Z",
     "iopub.status.busy": "2023-06-17T03:19:06.229810Z",
     "iopub.status.idle": "2023-06-17T03:19:06.260518Z",
     "shell.execute_reply": "2023-06-17T03:19:06.259556Z"
    },
    "papermill": {
     "duration": 0.0453,
     "end_time": "2023-06-17T03:19:06.262413",
     "exception": false,
     "start_time": "2023-06-17T03:19:06.217113",
     "status": "completed"
    },
    "tags": []
   },
   "outputs": [
    {
     "data": {
      "text/html": [
       "<div>\n",
       "<style scoped>\n",
       "    .dataframe tbody tr th:only-of-type {\n",
       "        vertical-align: middle;\n",
       "    }\n",
       "\n",
       "    .dataframe tbody tr th {\n",
       "        vertical-align: top;\n",
       "    }\n",
       "\n",
       "    .dataframe thead th {\n",
       "        text-align: right;\n",
       "    }\n",
       "</style>\n",
       "<table border=\"1\" class=\"dataframe\">\n",
       "  <thead>\n",
       "    <tr style=\"text-align: right;\">\n",
       "      <th></th>\n",
       "      <th>Age</th>\n",
       "      <th>Height</th>\n",
       "      <th>Weight</th>\n",
       "      <th>FCVC</th>\n",
       "      <th>NCP</th>\n",
       "      <th>CH2O</th>\n",
       "      <th>FAF</th>\n",
       "      <th>TUE</th>\n",
       "    </tr>\n",
       "  </thead>\n",
       "  <tbody>\n",
       "    <tr>\n",
       "      <th>count</th>\n",
       "      <td>2111.000000</td>\n",
       "      <td>2111.000000</td>\n",
       "      <td>2111.000000</td>\n",
       "      <td>2111.000000</td>\n",
       "      <td>2111.000000</td>\n",
       "      <td>2111.000000</td>\n",
       "      <td>2111.000000</td>\n",
       "      <td>2111.000000</td>\n",
       "    </tr>\n",
       "    <tr>\n",
       "      <th>mean</th>\n",
       "      <td>24.312600</td>\n",
       "      <td>1.701677</td>\n",
       "      <td>86.586058</td>\n",
       "      <td>2.419043</td>\n",
       "      <td>2.685628</td>\n",
       "      <td>2.008011</td>\n",
       "      <td>1.010298</td>\n",
       "      <td>0.657866</td>\n",
       "    </tr>\n",
       "    <tr>\n",
       "      <th>std</th>\n",
       "      <td>6.345968</td>\n",
       "      <td>0.093305</td>\n",
       "      <td>26.191172</td>\n",
       "      <td>0.533927</td>\n",
       "      <td>0.778039</td>\n",
       "      <td>0.612953</td>\n",
       "      <td>0.850592</td>\n",
       "      <td>0.608927</td>\n",
       "    </tr>\n",
       "    <tr>\n",
       "      <th>min</th>\n",
       "      <td>14.000000</td>\n",
       "      <td>1.450000</td>\n",
       "      <td>39.000000</td>\n",
       "      <td>1.000000</td>\n",
       "      <td>1.000000</td>\n",
       "      <td>1.000000</td>\n",
       "      <td>0.000000</td>\n",
       "      <td>0.000000</td>\n",
       "    </tr>\n",
       "    <tr>\n",
       "      <th>25%</th>\n",
       "      <td>19.947192</td>\n",
       "      <td>1.630000</td>\n",
       "      <td>65.473343</td>\n",
       "      <td>2.000000</td>\n",
       "      <td>2.658738</td>\n",
       "      <td>1.584812</td>\n",
       "      <td>0.124505</td>\n",
       "      <td>0.000000</td>\n",
       "    </tr>\n",
       "    <tr>\n",
       "      <th>50%</th>\n",
       "      <td>22.777890</td>\n",
       "      <td>1.700499</td>\n",
       "      <td>83.000000</td>\n",
       "      <td>2.385502</td>\n",
       "      <td>3.000000</td>\n",
       "      <td>2.000000</td>\n",
       "      <td>1.000000</td>\n",
       "      <td>0.625350</td>\n",
       "    </tr>\n",
       "    <tr>\n",
       "      <th>75%</th>\n",
       "      <td>26.000000</td>\n",
       "      <td>1.768464</td>\n",
       "      <td>107.430682</td>\n",
       "      <td>3.000000</td>\n",
       "      <td>3.000000</td>\n",
       "      <td>2.477420</td>\n",
       "      <td>1.666678</td>\n",
       "      <td>1.000000</td>\n",
       "    </tr>\n",
       "    <tr>\n",
       "      <th>max</th>\n",
       "      <td>61.000000</td>\n",
       "      <td>1.980000</td>\n",
       "      <td>173.000000</td>\n",
       "      <td>3.000000</td>\n",
       "      <td>4.000000</td>\n",
       "      <td>3.000000</td>\n",
       "      <td>3.000000</td>\n",
       "      <td>2.000000</td>\n",
       "    </tr>\n",
       "  </tbody>\n",
       "</table>\n",
       "</div>"
      ],
      "text/plain": [
       "               Age       Height       Weight         FCVC          NCP  \\\n",
       "count  2111.000000  2111.000000  2111.000000  2111.000000  2111.000000   \n",
       "mean     24.312600     1.701677    86.586058     2.419043     2.685628   \n",
       "std       6.345968     0.093305    26.191172     0.533927     0.778039   \n",
       "min      14.000000     1.450000    39.000000     1.000000     1.000000   \n",
       "25%      19.947192     1.630000    65.473343     2.000000     2.658738   \n",
       "50%      22.777890     1.700499    83.000000     2.385502     3.000000   \n",
       "75%      26.000000     1.768464   107.430682     3.000000     3.000000   \n",
       "max      61.000000     1.980000   173.000000     3.000000     4.000000   \n",
       "\n",
       "              CH2O          FAF          TUE  \n",
       "count  2111.000000  2111.000000  2111.000000  \n",
       "mean      2.008011     1.010298     0.657866  \n",
       "std       0.612953     0.850592     0.608927  \n",
       "min       1.000000     0.000000     0.000000  \n",
       "25%       1.584812     0.124505     0.000000  \n",
       "50%       2.000000     1.000000     0.625350  \n",
       "75%       2.477420     1.666678     1.000000  \n",
       "max       3.000000     3.000000     2.000000  "
      ]
     },
     "execution_count": 7,
     "metadata": {},
     "output_type": "execute_result"
    }
   ],
   "source": [
    "data.describe()"
   ]
  },
  {
   "cell_type": "code",
   "execution_count": 8,
   "id": "7e472120",
   "metadata": {
    "execution": {
     "iopub.execute_input": "2023-06-17T03:19:06.288793Z",
     "iopub.status.busy": "2023-06-17T03:19:06.287587Z",
     "iopub.status.idle": "2023-06-17T03:19:06.293562Z",
     "shell.execute_reply": "2023-06-17T03:19:06.292832Z"
    },
    "papermill": {
     "duration": 0.021414,
     "end_time": "2023-06-17T03:19:06.295882",
     "exception": false,
     "start_time": "2023-06-17T03:19:06.274468",
     "status": "completed"
    },
    "tags": []
   },
   "outputs": [
    {
     "data": {
      "text/plain": [
       "Index(['Gender', 'Age', 'Height', 'Weight', 'FHWO', 'FAVC', 'FCVC', 'NCP',\n",
       "       'CAEC', 'SMOKE', 'CH2O', 'SCC', 'FAF', 'TUE', 'CALC', 'MTRANS', 'BMI'],\n",
       "      dtype='object')"
      ]
     },
     "execution_count": 8,
     "metadata": {},
     "output_type": "execute_result"
    }
   ],
   "source": [
    "col = data.columns\n",
    "col"
   ]
  },
  {
   "cell_type": "code",
   "execution_count": 9,
   "id": "87188fe5",
   "metadata": {
    "execution": {
     "iopub.execute_input": "2023-06-17T03:19:06.322752Z",
     "iopub.status.busy": "2023-06-17T03:19:06.322204Z",
     "iopub.status.idle": "2023-06-17T03:19:06.331198Z",
     "shell.execute_reply": "2023-06-17T03:19:06.330120Z"
    },
    "papermill": {
     "duration": 0.02397,
     "end_time": "2023-06-17T03:19:06.333038",
     "exception": false,
     "start_time": "2023-06-17T03:19:06.309068",
     "status": "completed"
    },
    "tags": []
   },
   "outputs": [
    {
     "data": {
      "text/plain": [
       "Gender    0\n",
       "Age       0\n",
       "Height    0\n",
       "Weight    0\n",
       "FHWO      0\n",
       "FAVC      0\n",
       "FCVC      0\n",
       "NCP       0\n",
       "CAEC      0\n",
       "SMOKE     0\n",
       "CH2O      0\n",
       "SCC       0\n",
       "FAF       0\n",
       "TUE       0\n",
       "CALC      0\n",
       "MTRANS    0\n",
       "BMI       0\n",
       "dtype: int64"
      ]
     },
     "execution_count": 9,
     "metadata": {},
     "output_type": "execute_result"
    }
   ],
   "source": [
    "data.isnull().sum()"
   ]
  },
  {
   "cell_type": "markdown",
   "id": "17919560",
   "metadata": {
    "papermill": {
     "duration": 0.011718,
     "end_time": "2023-06-17T03:19:06.356810",
     "exception": false,
     "start_time": "2023-06-17T03:19:06.345092",
     "status": "completed"
    },
    "tags": []
   },
   "source": [
    "## Data Preparation Reports\n",
    "\n",
    "- Attribute = 17\n",
    "- Ukuran data : 2111\n",
    "- Fitur : 16\n",
    "- Label/ Target = 1\n",
    "- Target: Tingkatan Obesitas (BMI)\n",
    "- Jumlah null/data yang kosong disetiap kolom: 0"
   ]
  },
  {
   "cell_type": "markdown",
   "id": "ccb7baba",
   "metadata": {
    "papermill": {
     "duration": 0.011797,
     "end_time": "2023-06-17T03:19:06.380693",
     "exception": false,
     "start_time": "2023-06-17T03:19:06.368896",
     "status": "completed"
    },
    "tags": []
   },
   "source": [
    "# Unique Value Atribute"
   ]
  },
  {
   "cell_type": "code",
   "execution_count": 10,
   "id": "65979635",
   "metadata": {
    "execution": {
     "iopub.execute_input": "2023-06-17T03:19:06.407168Z",
     "iopub.status.busy": "2023-06-17T03:19:06.406806Z",
     "iopub.status.idle": "2023-06-17T03:19:06.417700Z",
     "shell.execute_reply": "2023-06-17T03:19:06.416279Z"
    },
    "papermill": {
     "duration": 0.026718,
     "end_time": "2023-06-17T03:19:06.419802",
     "exception": false,
     "start_time": "2023-06-17T03:19:06.393084",
     "status": "completed"
    },
    "tags": []
   },
   "outputs": [
    {
     "name": "stdout",
     "output_type": "stream",
     "text": [
      "Categorical columns that will be ordinal encoded: ['Gender', 'FHWO', 'FAVC', 'CAEC', 'SMOKE', 'SCC', 'CALC', 'MTRANS']\n"
     ]
    }
   ],
   "source": [
    "object_cols = [col for col in data.columns if data[col].dtype == \"object\"]\n",
    "\n",
    "good_label_cols = [col for col in object_cols if set(data[col]).issubset(set(data[col]))]\n",
    "good_label_cols.remove('BMI')\n",
    "\n",
    "print('Categorical columns that will be ordinal encoded:', good_label_cols)"
   ]
  },
  {
   "cell_type": "code",
   "execution_count": 11,
   "id": "86c2187e",
   "metadata": {
    "execution": {
     "iopub.execute_input": "2023-06-17T03:19:06.445946Z",
     "iopub.status.busy": "2023-06-17T03:19:06.445588Z",
     "iopub.status.idle": "2023-06-17T03:19:06.459203Z",
     "shell.execute_reply": "2023-06-17T03:19:06.457735Z"
    },
    "papermill": {
     "duration": 0.029311,
     "end_time": "2023-06-17T03:19:06.461434",
     "exception": false,
     "start_time": "2023-06-17T03:19:06.432123",
     "status": "completed"
    },
    "tags": []
   },
   "outputs": [
    {
     "name": "stdout",
     "output_type": "stream",
     "text": [
      "0 Value Unique Gender:\n",
      " Male      1068\n",
      "Female    1043\n",
      "Name: Gender, dtype: int64 \n",
      "\n",
      "1 Value Unique FHWO:\n",
      " yes    1726\n",
      "no      385\n",
      "Name: FHWO, dtype: int64 \n",
      "\n",
      "2 Value Unique FAVC:\n",
      " yes    1866\n",
      "no      245\n",
      "Name: FAVC, dtype: int64 \n",
      "\n",
      "3 Value Unique CAEC:\n",
      " Sometimes     1765\n",
      "Frequently     242\n",
      "Always          53\n",
      "no              51\n",
      "Name: CAEC, dtype: int64 \n",
      "\n",
      "4 Value Unique SMOKE:\n",
      " no     2067\n",
      "yes      44\n",
      "Name: SMOKE, dtype: int64 \n",
      "\n",
      "5 Value Unique SCC:\n",
      " no     2015\n",
      "yes      96\n",
      "Name: SCC, dtype: int64 \n",
      "\n",
      "6 Value Unique CALC:\n",
      " Sometimes     1401\n",
      "no             639\n",
      "Frequently      70\n",
      "Always           1\n",
      "Name: CALC, dtype: int64 \n",
      "\n",
      "7 Value Unique MTRANS:\n",
      " Public_Transportation    1580\n",
      "Automobile                457\n",
      "Walking                    56\n",
      "Motorbike                  11\n",
      "Bike                        7\n",
      "Name: MTRANS, dtype: int64 \n",
      "\n",
      "8 Value Unique BMI:\n",
      " Obesity_Type_I         351\n",
      "Obesity_Type_III       324\n",
      "Obesity_Type_II        297\n",
      "Overweight_Level_I     290\n",
      "Overweight_Level_II    290\n",
      "Normal_Weight          287\n",
      "Insufficient_Weight    272\n",
      "Name: BMI, dtype: int64 \n",
      "\n"
     ]
    }
   ],
   "source": [
    "printf = 'Value Unique {}:\\n {} \\n'\n",
    "\n",
    "for count, i in enumerate(object_cols):\n",
    "    val_count = data['{}'.format(i)].value_counts()\n",
    "    print(count, printf.format(i, val_count))"
   ]
  },
  {
   "cell_type": "code",
   "execution_count": 12,
   "id": "4e07e956",
   "metadata": {
    "execution": {
     "iopub.execute_input": "2023-06-17T03:19:06.489093Z",
     "iopub.status.busy": "2023-06-17T03:19:06.488089Z",
     "iopub.status.idle": "2023-06-17T03:19:06.495787Z",
     "shell.execute_reply": "2023-06-17T03:19:06.495027Z"
    },
    "papermill": {
     "duration": 0.023873,
     "end_time": "2023-06-17T03:19:06.497896",
     "exception": false,
     "start_time": "2023-06-17T03:19:06.474023",
     "status": "completed"
    },
    "tags": []
   },
   "outputs": [
    {
     "name": "stdout",
     "output_type": "stream",
     "text": [
      "0 Gender          0\n",
      "1 Age             0\n",
      "2 Height          0\n",
      "3 Weight          0\n",
      "4 FHWO            0\n",
      "5 FAVC            0\n",
      "6 FCVC            0\n",
      "7 NCP             0\n",
      "8 CAEC            0\n",
      "9 SMOKE           0\n",
      "10 CH2O            0\n",
      "11 SCC             0\n",
      "12 FAF             0\n",
      "13 TUE             0\n",
      "14 CALC            0\n",
      "15 MTRANS          0\n",
      "16 BMI             0\n"
     ]
    }
   ],
   "source": [
    "col_isna = data.isnull().sum().to_list()\n",
    "for count, i in enumerate(col_isna):\n",
    "    print(count, '{:15}'.format(col[count]), i)"
   ]
  },
  {
   "cell_type": "markdown",
   "id": "de71fc57",
   "metadata": {
    "papermill": {
     "duration": 0.012871,
     "end_time": "2023-06-17T03:19:06.524195",
     "exception": false,
     "start_time": "2023-06-17T03:19:06.511324",
     "status": "completed"
    },
    "tags": []
   },
   "source": [
    "## Transformation"
   ]
  },
  {
   "cell_type": "code",
   "execution_count": 13,
   "id": "eaf55818",
   "metadata": {
    "execution": {
     "iopub.execute_input": "2023-06-17T03:19:06.551075Z",
     "iopub.status.busy": "2023-06-17T03:19:06.550682Z",
     "iopub.status.idle": "2023-06-17T03:19:06.571779Z",
     "shell.execute_reply": "2023-06-17T03:19:06.570626Z"
    },
    "papermill": {
     "duration": 0.037687,
     "end_time": "2023-06-17T03:19:06.574509",
     "exception": false,
     "start_time": "2023-06-17T03:19:06.536822",
     "status": "completed"
    },
    "tags": []
   },
   "outputs": [
    {
     "data": {
      "text/html": [
       "<div>\n",
       "<style scoped>\n",
       "    .dataframe tbody tr th:only-of-type {\n",
       "        vertical-align: middle;\n",
       "    }\n",
       "\n",
       "    .dataframe tbody tr th {\n",
       "        vertical-align: top;\n",
       "    }\n",
       "\n",
       "    .dataframe thead th {\n",
       "        text-align: right;\n",
       "    }\n",
       "</style>\n",
       "<table border=\"1\" class=\"dataframe\">\n",
       "  <thead>\n",
       "    <tr style=\"text-align: right;\">\n",
       "      <th></th>\n",
       "      <th>Gender</th>\n",
       "      <th>Age</th>\n",
       "      <th>Height</th>\n",
       "      <th>Weight</th>\n",
       "      <th>FHWO</th>\n",
       "      <th>FAVC</th>\n",
       "      <th>FCVC</th>\n",
       "      <th>NCP</th>\n",
       "      <th>CAEC</th>\n",
       "      <th>SMOKE</th>\n",
       "      <th>CH2O</th>\n",
       "      <th>SCC</th>\n",
       "      <th>FAF</th>\n",
       "      <th>TUE</th>\n",
       "      <th>CALC</th>\n",
       "      <th>MTRANS</th>\n",
       "      <th>BMI</th>\n",
       "    </tr>\n",
       "  </thead>\n",
       "  <tbody>\n",
       "    <tr>\n",
       "      <th>0</th>\n",
       "      <td>Female</td>\n",
       "      <td>21.0</td>\n",
       "      <td>1.62</td>\n",
       "      <td>64.0</td>\n",
       "      <td>yes</td>\n",
       "      <td>no</td>\n",
       "      <td>2.0</td>\n",
       "      <td>3.0</td>\n",
       "      <td>Sometimes</td>\n",
       "      <td>no</td>\n",
       "      <td>2.0</td>\n",
       "      <td>no</td>\n",
       "      <td>0.0</td>\n",
       "      <td>1.0</td>\n",
       "      <td>no</td>\n",
       "      <td>Public_Transportation</td>\n",
       "      <td>Normal_Weight</td>\n",
       "    </tr>\n",
       "    <tr>\n",
       "      <th>1</th>\n",
       "      <td>Female</td>\n",
       "      <td>21.0</td>\n",
       "      <td>1.52</td>\n",
       "      <td>56.0</td>\n",
       "      <td>yes</td>\n",
       "      <td>no</td>\n",
       "      <td>3.0</td>\n",
       "      <td>3.0</td>\n",
       "      <td>Sometimes</td>\n",
       "      <td>yes</td>\n",
       "      <td>3.0</td>\n",
       "      <td>yes</td>\n",
       "      <td>3.0</td>\n",
       "      <td>0.0</td>\n",
       "      <td>Sometimes</td>\n",
       "      <td>Public_Transportation</td>\n",
       "      <td>Normal_Weight</td>\n",
       "    </tr>\n",
       "    <tr>\n",
       "      <th>2</th>\n",
       "      <td>Male</td>\n",
       "      <td>23.0</td>\n",
       "      <td>1.80</td>\n",
       "      <td>77.0</td>\n",
       "      <td>yes</td>\n",
       "      <td>no</td>\n",
       "      <td>2.0</td>\n",
       "      <td>3.0</td>\n",
       "      <td>Sometimes</td>\n",
       "      <td>no</td>\n",
       "      <td>2.0</td>\n",
       "      <td>no</td>\n",
       "      <td>2.0</td>\n",
       "      <td>1.0</td>\n",
       "      <td>Frequently</td>\n",
       "      <td>Public_Transportation</td>\n",
       "      <td>Normal_Weight</td>\n",
       "    </tr>\n",
       "    <tr>\n",
       "      <th>3</th>\n",
       "      <td>Male</td>\n",
       "      <td>27.0</td>\n",
       "      <td>1.80</td>\n",
       "      <td>87.0</td>\n",
       "      <td>no</td>\n",
       "      <td>no</td>\n",
       "      <td>3.0</td>\n",
       "      <td>3.0</td>\n",
       "      <td>Sometimes</td>\n",
       "      <td>no</td>\n",
       "      <td>2.0</td>\n",
       "      <td>no</td>\n",
       "      <td>2.0</td>\n",
       "      <td>0.0</td>\n",
       "      <td>Frequently</td>\n",
       "      <td>Walking</td>\n",
       "      <td>Overweight_Level_I</td>\n",
       "    </tr>\n",
       "    <tr>\n",
       "      <th>4</th>\n",
       "      <td>Male</td>\n",
       "      <td>22.0</td>\n",
       "      <td>1.78</td>\n",
       "      <td>89.8</td>\n",
       "      <td>no</td>\n",
       "      <td>no</td>\n",
       "      <td>2.0</td>\n",
       "      <td>1.0</td>\n",
       "      <td>Sometimes</td>\n",
       "      <td>no</td>\n",
       "      <td>2.0</td>\n",
       "      <td>no</td>\n",
       "      <td>0.0</td>\n",
       "      <td>0.0</td>\n",
       "      <td>Sometimes</td>\n",
       "      <td>Public_Transportation</td>\n",
       "      <td>Overweight_Level_II</td>\n",
       "    </tr>\n",
       "  </tbody>\n",
       "</table>\n",
       "</div>"
      ],
      "text/plain": [
       "   Gender   Age  Height  Weight FHWO FAVC  FCVC  NCP       CAEC SMOKE  CH2O  \\\n",
       "0  Female  21.0    1.62    64.0  yes   no   2.0  3.0  Sometimes    no   2.0   \n",
       "1  Female  21.0    1.52    56.0  yes   no   3.0  3.0  Sometimes   yes   3.0   \n",
       "2    Male  23.0    1.80    77.0  yes   no   2.0  3.0  Sometimes    no   2.0   \n",
       "3    Male  27.0    1.80    87.0   no   no   3.0  3.0  Sometimes    no   2.0   \n",
       "4    Male  22.0    1.78    89.8   no   no   2.0  1.0  Sometimes    no   2.0   \n",
       "\n",
       "   SCC  FAF  TUE        CALC                 MTRANS                  BMI  \n",
       "0   no  0.0  1.0          no  Public_Transportation        Normal_Weight  \n",
       "1  yes  3.0  0.0   Sometimes  Public_Transportation        Normal_Weight  \n",
       "2   no  2.0  1.0  Frequently  Public_Transportation        Normal_Weight  \n",
       "3   no  2.0  0.0  Frequently                Walking   Overweight_Level_I  \n",
       "4   no  0.0  0.0   Sometimes  Public_Transportation  Overweight_Level_II  "
      ]
     },
     "execution_count": 13,
     "metadata": {},
     "output_type": "execute_result"
    }
   ],
   "source": [
    "data.head()"
   ]
  },
  {
   "cell_type": "code",
   "execution_count": 14,
   "id": "5d5020af",
   "metadata": {
    "execution": {
     "iopub.execute_input": "2023-06-17T03:19:06.601842Z",
     "iopub.status.busy": "2023-06-17T03:19:06.601446Z",
     "iopub.status.idle": "2023-06-17T03:19:06.615834Z",
     "shell.execute_reply": "2023-06-17T03:19:06.614788Z"
    },
    "papermill": {
     "duration": 0.030819,
     "end_time": "2023-06-17T03:19:06.618304",
     "exception": false,
     "start_time": "2023-06-17T03:19:06.587485",
     "status": "completed"
    },
    "tags": []
   },
   "outputs": [],
   "source": [
    "data_transform = data.copy()\n",
    "ordinal_encoder = OrdinalEncoder()\n",
    "data_transform[good_label_cols] = ordinal_encoder.fit_transform(data_transform[good_label_cols])"
   ]
  },
  {
   "cell_type": "code",
   "execution_count": 15,
   "id": "7f50a59a",
   "metadata": {
    "execution": {
     "iopub.execute_input": "2023-06-17T03:19:06.646562Z",
     "iopub.status.busy": "2023-06-17T03:19:06.645769Z",
     "iopub.status.idle": "2023-06-17T03:19:06.655123Z",
     "shell.execute_reply": "2023-06-17T03:19:06.654056Z"
    },
    "papermill": {
     "duration": 0.026483,
     "end_time": "2023-06-17T03:19:06.657816",
     "exception": false,
     "start_time": "2023-06-17T03:19:06.631333",
     "status": "completed"
    },
    "tags": []
   },
   "outputs": [],
   "source": [
    "dic_to_replace = {\"BMI\": {\"Insufficient_Weight\": 0, \n",
    "                          \"Normal_Weight\": 1,\n",
    "                         'Overweight_Level_I': 2,\n",
    "                          'Overweight_Level_II': 3,\n",
    "                          'Obesity_Type_I': 4,\n",
    "                          'Obesity_Type_II': 5,\n",
    "                          'Obesity_Type_III': 6,}\n",
    "                         }\n",
    "data_transform.replace(dic_to_replace, inplace=True)"
   ]
  },
  {
   "cell_type": "code",
   "execution_count": 16,
   "id": "a35a5a5c",
   "metadata": {
    "execution": {
     "iopub.execute_input": "2023-06-17T03:19:06.685491Z",
     "iopub.status.busy": "2023-06-17T03:19:06.684847Z",
     "iopub.status.idle": "2023-06-17T03:19:06.710843Z",
     "shell.execute_reply": "2023-06-17T03:19:06.710121Z"
    },
    "papermill": {
     "duration": 0.041909,
     "end_time": "2023-06-17T03:19:06.712619",
     "exception": false,
     "start_time": "2023-06-17T03:19:06.670710",
     "status": "completed"
    },
    "tags": []
   },
   "outputs": [
    {
     "data": {
      "text/html": [
       "<div>\n",
       "<style scoped>\n",
       "    .dataframe tbody tr th:only-of-type {\n",
       "        vertical-align: middle;\n",
       "    }\n",
       "\n",
       "    .dataframe tbody tr th {\n",
       "        vertical-align: top;\n",
       "    }\n",
       "\n",
       "    .dataframe thead th {\n",
       "        text-align: right;\n",
       "    }\n",
       "</style>\n",
       "<table border=\"1\" class=\"dataframe\">\n",
       "  <thead>\n",
       "    <tr style=\"text-align: right;\">\n",
       "      <th></th>\n",
       "      <th>Gender</th>\n",
       "      <th>Age</th>\n",
       "      <th>Height</th>\n",
       "      <th>Weight</th>\n",
       "      <th>FHWO</th>\n",
       "      <th>FAVC</th>\n",
       "      <th>FCVC</th>\n",
       "      <th>NCP</th>\n",
       "      <th>CAEC</th>\n",
       "      <th>SMOKE</th>\n",
       "      <th>CH2O</th>\n",
       "      <th>SCC</th>\n",
       "      <th>FAF</th>\n",
       "      <th>TUE</th>\n",
       "      <th>CALC</th>\n",
       "      <th>MTRANS</th>\n",
       "      <th>BMI</th>\n",
       "    </tr>\n",
       "  </thead>\n",
       "  <tbody>\n",
       "    <tr>\n",
       "      <th>0</th>\n",
       "      <td>0.0</td>\n",
       "      <td>21.000000</td>\n",
       "      <td>1.620000</td>\n",
       "      <td>64.000000</td>\n",
       "      <td>1.0</td>\n",
       "      <td>0.0</td>\n",
       "      <td>2.0</td>\n",
       "      <td>3.0</td>\n",
       "      <td>2.0</td>\n",
       "      <td>0.0</td>\n",
       "      <td>2.000000</td>\n",
       "      <td>0.0</td>\n",
       "      <td>0.000000</td>\n",
       "      <td>1.000000</td>\n",
       "      <td>3.0</td>\n",
       "      <td>3.0</td>\n",
       "      <td>1</td>\n",
       "    </tr>\n",
       "    <tr>\n",
       "      <th>1</th>\n",
       "      <td>0.0</td>\n",
       "      <td>21.000000</td>\n",
       "      <td>1.520000</td>\n",
       "      <td>56.000000</td>\n",
       "      <td>1.0</td>\n",
       "      <td>0.0</td>\n",
       "      <td>3.0</td>\n",
       "      <td>3.0</td>\n",
       "      <td>2.0</td>\n",
       "      <td>1.0</td>\n",
       "      <td>3.000000</td>\n",
       "      <td>1.0</td>\n",
       "      <td>3.000000</td>\n",
       "      <td>0.000000</td>\n",
       "      <td>2.0</td>\n",
       "      <td>3.0</td>\n",
       "      <td>1</td>\n",
       "    </tr>\n",
       "    <tr>\n",
       "      <th>2</th>\n",
       "      <td>1.0</td>\n",
       "      <td>23.000000</td>\n",
       "      <td>1.800000</td>\n",
       "      <td>77.000000</td>\n",
       "      <td>1.0</td>\n",
       "      <td>0.0</td>\n",
       "      <td>2.0</td>\n",
       "      <td>3.0</td>\n",
       "      <td>2.0</td>\n",
       "      <td>0.0</td>\n",
       "      <td>2.000000</td>\n",
       "      <td>0.0</td>\n",
       "      <td>2.000000</td>\n",
       "      <td>1.000000</td>\n",
       "      <td>1.0</td>\n",
       "      <td>3.0</td>\n",
       "      <td>1</td>\n",
       "    </tr>\n",
       "    <tr>\n",
       "      <th>3</th>\n",
       "      <td>1.0</td>\n",
       "      <td>27.000000</td>\n",
       "      <td>1.800000</td>\n",
       "      <td>87.000000</td>\n",
       "      <td>0.0</td>\n",
       "      <td>0.0</td>\n",
       "      <td>3.0</td>\n",
       "      <td>3.0</td>\n",
       "      <td>2.0</td>\n",
       "      <td>0.0</td>\n",
       "      <td>2.000000</td>\n",
       "      <td>0.0</td>\n",
       "      <td>2.000000</td>\n",
       "      <td>0.000000</td>\n",
       "      <td>1.0</td>\n",
       "      <td>4.0</td>\n",
       "      <td>2</td>\n",
       "    </tr>\n",
       "    <tr>\n",
       "      <th>4</th>\n",
       "      <td>1.0</td>\n",
       "      <td>22.000000</td>\n",
       "      <td>1.780000</td>\n",
       "      <td>89.800000</td>\n",
       "      <td>0.0</td>\n",
       "      <td>0.0</td>\n",
       "      <td>2.0</td>\n",
       "      <td>1.0</td>\n",
       "      <td>2.0</td>\n",
       "      <td>0.0</td>\n",
       "      <td>2.000000</td>\n",
       "      <td>0.0</td>\n",
       "      <td>0.000000</td>\n",
       "      <td>0.000000</td>\n",
       "      <td>2.0</td>\n",
       "      <td>3.0</td>\n",
       "      <td>3</td>\n",
       "    </tr>\n",
       "    <tr>\n",
       "      <th>...</th>\n",
       "      <td>...</td>\n",
       "      <td>...</td>\n",
       "      <td>...</td>\n",
       "      <td>...</td>\n",
       "      <td>...</td>\n",
       "      <td>...</td>\n",
       "      <td>...</td>\n",
       "      <td>...</td>\n",
       "      <td>...</td>\n",
       "      <td>...</td>\n",
       "      <td>...</td>\n",
       "      <td>...</td>\n",
       "      <td>...</td>\n",
       "      <td>...</td>\n",
       "      <td>...</td>\n",
       "      <td>...</td>\n",
       "      <td>...</td>\n",
       "    </tr>\n",
       "    <tr>\n",
       "      <th>2106</th>\n",
       "      <td>0.0</td>\n",
       "      <td>20.976842</td>\n",
       "      <td>1.710730</td>\n",
       "      <td>131.408528</td>\n",
       "      <td>1.0</td>\n",
       "      <td>1.0</td>\n",
       "      <td>3.0</td>\n",
       "      <td>3.0</td>\n",
       "      <td>2.0</td>\n",
       "      <td>0.0</td>\n",
       "      <td>1.728139</td>\n",
       "      <td>0.0</td>\n",
       "      <td>1.676269</td>\n",
       "      <td>0.906247</td>\n",
       "      <td>2.0</td>\n",
       "      <td>3.0</td>\n",
       "      <td>6</td>\n",
       "    </tr>\n",
       "    <tr>\n",
       "      <th>2107</th>\n",
       "      <td>0.0</td>\n",
       "      <td>21.982942</td>\n",
       "      <td>1.748584</td>\n",
       "      <td>133.742943</td>\n",
       "      <td>1.0</td>\n",
       "      <td>1.0</td>\n",
       "      <td>3.0</td>\n",
       "      <td>3.0</td>\n",
       "      <td>2.0</td>\n",
       "      <td>0.0</td>\n",
       "      <td>2.005130</td>\n",
       "      <td>0.0</td>\n",
       "      <td>1.341390</td>\n",
       "      <td>0.599270</td>\n",
       "      <td>2.0</td>\n",
       "      <td>3.0</td>\n",
       "      <td>6</td>\n",
       "    </tr>\n",
       "    <tr>\n",
       "      <th>2108</th>\n",
       "      <td>0.0</td>\n",
       "      <td>22.524036</td>\n",
       "      <td>1.752206</td>\n",
       "      <td>133.689352</td>\n",
       "      <td>1.0</td>\n",
       "      <td>1.0</td>\n",
       "      <td>3.0</td>\n",
       "      <td>3.0</td>\n",
       "      <td>2.0</td>\n",
       "      <td>0.0</td>\n",
       "      <td>2.054193</td>\n",
       "      <td>0.0</td>\n",
       "      <td>1.414209</td>\n",
       "      <td>0.646288</td>\n",
       "      <td>2.0</td>\n",
       "      <td>3.0</td>\n",
       "      <td>6</td>\n",
       "    </tr>\n",
       "    <tr>\n",
       "      <th>2109</th>\n",
       "      <td>0.0</td>\n",
       "      <td>24.361936</td>\n",
       "      <td>1.739450</td>\n",
       "      <td>133.346641</td>\n",
       "      <td>1.0</td>\n",
       "      <td>1.0</td>\n",
       "      <td>3.0</td>\n",
       "      <td>3.0</td>\n",
       "      <td>2.0</td>\n",
       "      <td>0.0</td>\n",
       "      <td>2.852339</td>\n",
       "      <td>0.0</td>\n",
       "      <td>1.139107</td>\n",
       "      <td>0.586035</td>\n",
       "      <td>2.0</td>\n",
       "      <td>3.0</td>\n",
       "      <td>6</td>\n",
       "    </tr>\n",
       "    <tr>\n",
       "      <th>2110</th>\n",
       "      <td>0.0</td>\n",
       "      <td>23.664709</td>\n",
       "      <td>1.738836</td>\n",
       "      <td>133.472641</td>\n",
       "      <td>1.0</td>\n",
       "      <td>1.0</td>\n",
       "      <td>3.0</td>\n",
       "      <td>3.0</td>\n",
       "      <td>2.0</td>\n",
       "      <td>0.0</td>\n",
       "      <td>2.863513</td>\n",
       "      <td>0.0</td>\n",
       "      <td>1.026452</td>\n",
       "      <td>0.714137</td>\n",
       "      <td>2.0</td>\n",
       "      <td>3.0</td>\n",
       "      <td>6</td>\n",
       "    </tr>\n",
       "  </tbody>\n",
       "</table>\n",
       "<p>2111 rows × 17 columns</p>\n",
       "</div>"
      ],
      "text/plain": [
       "      Gender        Age    Height      Weight  FHWO  FAVC  FCVC  NCP  CAEC  \\\n",
       "0        0.0  21.000000  1.620000   64.000000   1.0   0.0   2.0  3.0   2.0   \n",
       "1        0.0  21.000000  1.520000   56.000000   1.0   0.0   3.0  3.0   2.0   \n",
       "2        1.0  23.000000  1.800000   77.000000   1.0   0.0   2.0  3.0   2.0   \n",
       "3        1.0  27.000000  1.800000   87.000000   0.0   0.0   3.0  3.0   2.0   \n",
       "4        1.0  22.000000  1.780000   89.800000   0.0   0.0   2.0  1.0   2.0   \n",
       "...      ...        ...       ...         ...   ...   ...   ...  ...   ...   \n",
       "2106     0.0  20.976842  1.710730  131.408528   1.0   1.0   3.0  3.0   2.0   \n",
       "2107     0.0  21.982942  1.748584  133.742943   1.0   1.0   3.0  3.0   2.0   \n",
       "2108     0.0  22.524036  1.752206  133.689352   1.0   1.0   3.0  3.0   2.0   \n",
       "2109     0.0  24.361936  1.739450  133.346641   1.0   1.0   3.0  3.0   2.0   \n",
       "2110     0.0  23.664709  1.738836  133.472641   1.0   1.0   3.0  3.0   2.0   \n",
       "\n",
       "      SMOKE      CH2O  SCC       FAF       TUE  CALC  MTRANS  BMI  \n",
       "0       0.0  2.000000  0.0  0.000000  1.000000   3.0     3.0    1  \n",
       "1       1.0  3.000000  1.0  3.000000  0.000000   2.0     3.0    1  \n",
       "2       0.0  2.000000  0.0  2.000000  1.000000   1.0     3.0    1  \n",
       "3       0.0  2.000000  0.0  2.000000  0.000000   1.0     4.0    2  \n",
       "4       0.0  2.000000  0.0  0.000000  0.000000   2.0     3.0    3  \n",
       "...     ...       ...  ...       ...       ...   ...     ...  ...  \n",
       "2106    0.0  1.728139  0.0  1.676269  0.906247   2.0     3.0    6  \n",
       "2107    0.0  2.005130  0.0  1.341390  0.599270   2.0     3.0    6  \n",
       "2108    0.0  2.054193  0.0  1.414209  0.646288   2.0     3.0    6  \n",
       "2109    0.0  2.852339  0.0  1.139107  0.586035   2.0     3.0    6  \n",
       "2110    0.0  2.863513  0.0  1.026452  0.714137   2.0     3.0    6  \n",
       "\n",
       "[2111 rows x 17 columns]"
      ]
     },
     "execution_count": 16,
     "metadata": {},
     "output_type": "execute_result"
    }
   ],
   "source": [
    "data_transform"
   ]
  },
  {
   "cell_type": "code",
   "execution_count": 17,
   "id": "0a14ea65",
   "metadata": {
    "execution": {
     "iopub.execute_input": "2023-06-17T03:19:06.741135Z",
     "iopub.status.busy": "2023-06-17T03:19:06.740448Z",
     "iopub.status.idle": "2023-06-17T03:19:06.790946Z",
     "shell.execute_reply": "2023-06-17T03:19:06.789775Z"
    },
    "papermill": {
     "duration": 0.06758,
     "end_time": "2023-06-17T03:19:06.793498",
     "exception": false,
     "start_time": "2023-06-17T03:19:06.725918",
     "status": "completed"
    },
    "tags": []
   },
   "outputs": [
    {
     "data": {
      "text/html": [
       "<div>\n",
       "<style scoped>\n",
       "    .dataframe tbody tr th:only-of-type {\n",
       "        vertical-align: middle;\n",
       "    }\n",
       "\n",
       "    .dataframe tbody tr th {\n",
       "        vertical-align: top;\n",
       "    }\n",
       "\n",
       "    .dataframe thead th {\n",
       "        text-align: right;\n",
       "    }\n",
       "</style>\n",
       "<table border=\"1\" class=\"dataframe\">\n",
       "  <thead>\n",
       "    <tr style=\"text-align: right;\">\n",
       "      <th></th>\n",
       "      <th>Gender</th>\n",
       "      <th>Age</th>\n",
       "      <th>Height</th>\n",
       "      <th>Weight</th>\n",
       "      <th>FHWO</th>\n",
       "      <th>FAVC</th>\n",
       "      <th>FCVC</th>\n",
       "      <th>NCP</th>\n",
       "      <th>CAEC</th>\n",
       "      <th>SMOKE</th>\n",
       "      <th>CH2O</th>\n",
       "      <th>SCC</th>\n",
       "      <th>FAF</th>\n",
       "      <th>TUE</th>\n",
       "      <th>CALC</th>\n",
       "      <th>MTRANS</th>\n",
       "      <th>BMI</th>\n",
       "    </tr>\n",
       "  </thead>\n",
       "  <tbody>\n",
       "    <tr>\n",
       "      <th>count</th>\n",
       "      <td>2111.000000</td>\n",
       "      <td>2111.000000</td>\n",
       "      <td>2111.000000</td>\n",
       "      <td>2111.000000</td>\n",
       "      <td>2111.000000</td>\n",
       "      <td>2111.000000</td>\n",
       "      <td>2111.000000</td>\n",
       "      <td>2111.000000</td>\n",
       "      <td>2111.000000</td>\n",
       "      <td>2111.000000</td>\n",
       "      <td>2111.000000</td>\n",
       "      <td>2111.000000</td>\n",
       "      <td>2111.000000</td>\n",
       "      <td>2111.000000</td>\n",
       "      <td>2111.000000</td>\n",
       "      <td>2111.000000</td>\n",
       "      <td>2111.000000</td>\n",
       "    </tr>\n",
       "    <tr>\n",
       "      <th>mean</th>\n",
       "      <td>0.505921</td>\n",
       "      <td>24.312600</td>\n",
       "      <td>1.701677</td>\n",
       "      <td>86.586058</td>\n",
       "      <td>0.817622</td>\n",
       "      <td>0.883941</td>\n",
       "      <td>2.419043</td>\n",
       "      <td>2.685628</td>\n",
       "      <td>1.859308</td>\n",
       "      <td>0.020843</td>\n",
       "      <td>2.008011</td>\n",
       "      <td>0.045476</td>\n",
       "      <td>1.010298</td>\n",
       "      <td>0.657866</td>\n",
       "      <td>2.268593</td>\n",
       "      <td>2.365230</td>\n",
       "      <td>3.112269</td>\n",
       "    </tr>\n",
       "    <tr>\n",
       "      <th>std</th>\n",
       "      <td>0.500083</td>\n",
       "      <td>6.345968</td>\n",
       "      <td>0.093305</td>\n",
       "      <td>26.191172</td>\n",
       "      <td>0.386247</td>\n",
       "      <td>0.320371</td>\n",
       "      <td>0.533927</td>\n",
       "      <td>0.778039</td>\n",
       "      <td>0.468543</td>\n",
       "      <td>0.142893</td>\n",
       "      <td>0.612953</td>\n",
       "      <td>0.208395</td>\n",
       "      <td>0.850592</td>\n",
       "      <td>0.608927</td>\n",
       "      <td>0.515498</td>\n",
       "      <td>1.261423</td>\n",
       "      <td>1.985062</td>\n",
       "    </tr>\n",
       "    <tr>\n",
       "      <th>min</th>\n",
       "      <td>0.000000</td>\n",
       "      <td>14.000000</td>\n",
       "      <td>1.450000</td>\n",
       "      <td>39.000000</td>\n",
       "      <td>0.000000</td>\n",
       "      <td>0.000000</td>\n",
       "      <td>1.000000</td>\n",
       "      <td>1.000000</td>\n",
       "      <td>0.000000</td>\n",
       "      <td>0.000000</td>\n",
       "      <td>1.000000</td>\n",
       "      <td>0.000000</td>\n",
       "      <td>0.000000</td>\n",
       "      <td>0.000000</td>\n",
       "      <td>0.000000</td>\n",
       "      <td>0.000000</td>\n",
       "      <td>0.000000</td>\n",
       "    </tr>\n",
       "    <tr>\n",
       "      <th>25%</th>\n",
       "      <td>0.000000</td>\n",
       "      <td>19.947192</td>\n",
       "      <td>1.630000</td>\n",
       "      <td>65.473343</td>\n",
       "      <td>1.000000</td>\n",
       "      <td>1.000000</td>\n",
       "      <td>2.000000</td>\n",
       "      <td>2.658738</td>\n",
       "      <td>2.000000</td>\n",
       "      <td>0.000000</td>\n",
       "      <td>1.584812</td>\n",
       "      <td>0.000000</td>\n",
       "      <td>0.124505</td>\n",
       "      <td>0.000000</td>\n",
       "      <td>2.000000</td>\n",
       "      <td>3.000000</td>\n",
       "      <td>1.000000</td>\n",
       "    </tr>\n",
       "    <tr>\n",
       "      <th>50%</th>\n",
       "      <td>1.000000</td>\n",
       "      <td>22.777890</td>\n",
       "      <td>1.700499</td>\n",
       "      <td>83.000000</td>\n",
       "      <td>1.000000</td>\n",
       "      <td>1.000000</td>\n",
       "      <td>2.385502</td>\n",
       "      <td>3.000000</td>\n",
       "      <td>2.000000</td>\n",
       "      <td>0.000000</td>\n",
       "      <td>2.000000</td>\n",
       "      <td>0.000000</td>\n",
       "      <td>1.000000</td>\n",
       "      <td>0.625350</td>\n",
       "      <td>2.000000</td>\n",
       "      <td>3.000000</td>\n",
       "      <td>3.000000</td>\n",
       "    </tr>\n",
       "    <tr>\n",
       "      <th>75%</th>\n",
       "      <td>1.000000</td>\n",
       "      <td>26.000000</td>\n",
       "      <td>1.768464</td>\n",
       "      <td>107.430682</td>\n",
       "      <td>1.000000</td>\n",
       "      <td>1.000000</td>\n",
       "      <td>3.000000</td>\n",
       "      <td>3.000000</td>\n",
       "      <td>2.000000</td>\n",
       "      <td>0.000000</td>\n",
       "      <td>2.477420</td>\n",
       "      <td>0.000000</td>\n",
       "      <td>1.666678</td>\n",
       "      <td>1.000000</td>\n",
       "      <td>3.000000</td>\n",
       "      <td>3.000000</td>\n",
       "      <td>5.000000</td>\n",
       "    </tr>\n",
       "    <tr>\n",
       "      <th>max</th>\n",
       "      <td>1.000000</td>\n",
       "      <td>61.000000</td>\n",
       "      <td>1.980000</td>\n",
       "      <td>173.000000</td>\n",
       "      <td>1.000000</td>\n",
       "      <td>1.000000</td>\n",
       "      <td>3.000000</td>\n",
       "      <td>4.000000</td>\n",
       "      <td>3.000000</td>\n",
       "      <td>1.000000</td>\n",
       "      <td>3.000000</td>\n",
       "      <td>1.000000</td>\n",
       "      <td>3.000000</td>\n",
       "      <td>2.000000</td>\n",
       "      <td>3.000000</td>\n",
       "      <td>4.000000</td>\n",
       "      <td>6.000000</td>\n",
       "    </tr>\n",
       "  </tbody>\n",
       "</table>\n",
       "</div>"
      ],
      "text/plain": [
       "            Gender          Age       Height       Weight         FHWO  \\\n",
       "count  2111.000000  2111.000000  2111.000000  2111.000000  2111.000000   \n",
       "mean      0.505921    24.312600     1.701677    86.586058     0.817622   \n",
       "std       0.500083     6.345968     0.093305    26.191172     0.386247   \n",
       "min       0.000000    14.000000     1.450000    39.000000     0.000000   \n",
       "25%       0.000000    19.947192     1.630000    65.473343     1.000000   \n",
       "50%       1.000000    22.777890     1.700499    83.000000     1.000000   \n",
       "75%       1.000000    26.000000     1.768464   107.430682     1.000000   \n",
       "max       1.000000    61.000000     1.980000   173.000000     1.000000   \n",
       "\n",
       "              FAVC         FCVC          NCP         CAEC        SMOKE  \\\n",
       "count  2111.000000  2111.000000  2111.000000  2111.000000  2111.000000   \n",
       "mean      0.883941     2.419043     2.685628     1.859308     0.020843   \n",
       "std       0.320371     0.533927     0.778039     0.468543     0.142893   \n",
       "min       0.000000     1.000000     1.000000     0.000000     0.000000   \n",
       "25%       1.000000     2.000000     2.658738     2.000000     0.000000   \n",
       "50%       1.000000     2.385502     3.000000     2.000000     0.000000   \n",
       "75%       1.000000     3.000000     3.000000     2.000000     0.000000   \n",
       "max       1.000000     3.000000     4.000000     3.000000     1.000000   \n",
       "\n",
       "              CH2O          SCC          FAF          TUE         CALC  \\\n",
       "count  2111.000000  2111.000000  2111.000000  2111.000000  2111.000000   \n",
       "mean      2.008011     0.045476     1.010298     0.657866     2.268593   \n",
       "std       0.612953     0.208395     0.850592     0.608927     0.515498   \n",
       "min       1.000000     0.000000     0.000000     0.000000     0.000000   \n",
       "25%       1.584812     0.000000     0.124505     0.000000     2.000000   \n",
       "50%       2.000000     0.000000     1.000000     0.625350     2.000000   \n",
       "75%       2.477420     0.000000     1.666678     1.000000     3.000000   \n",
       "max       3.000000     1.000000     3.000000     2.000000     3.000000   \n",
       "\n",
       "            MTRANS          BMI  \n",
       "count  2111.000000  2111.000000  \n",
       "mean      2.365230     3.112269  \n",
       "std       1.261423     1.985062  \n",
       "min       0.000000     0.000000  \n",
       "25%       3.000000     1.000000  \n",
       "50%       3.000000     3.000000  \n",
       "75%       3.000000     5.000000  \n",
       "max       4.000000     6.000000  "
      ]
     },
     "execution_count": 17,
     "metadata": {},
     "output_type": "execute_result"
    }
   ],
   "source": [
    "data_transform.describe()"
   ]
  },
  {
   "cell_type": "markdown",
   "id": "2faace6d",
   "metadata": {
    "execution": {
     "iopub.execute_input": "2023-06-16T07:03:55.166873Z",
     "iopub.status.busy": "2023-06-16T07:03:55.165640Z",
     "iopub.status.idle": "2023-06-16T07:03:55.218998Z",
     "shell.execute_reply": "2023-06-16T07:03:55.214129Z",
     "shell.execute_reply.started": "2023-06-16T07:03:55.166596Z"
    },
    "papermill": {
     "duration": 0.012994,
     "end_time": "2023-06-17T03:19:06.820279",
     "exception": false,
     "start_time": "2023-06-17T03:19:06.807285",
     "status": "completed"
    },
    "tags": []
   },
   "source": [
    "## Data Transformation Reports\n",
    "\n",
    "- Data dengan tipe object berjumlah 8 attribute yaitu 'Gender', 'FHWO', 'FAVC', 'CAEC', 'SMOKE', 'SCC', 'CALC', 'MTRANS', 'BMI'\n",
    "- Data target/label dengan tipe object yaitu 'BMI'\n",
    "- Semua data features dengan tipe object ditransform encoding dengan menggunakan class OrdinalEncoder yang terdapat di library sklearn.preprocessing\n",
    "- Data target  di transformasi menggunakan encoding manual yaitu mengubah variabel yang terdapat di kolom target atau BMI menjadi bentuk numerik angka 0 hingga 6.\n",
    "- Transformation encoding dilakukan agar dapat diproses oleh algoritma machine learning."
   ]
  },
  {
   "cell_type": "markdown",
   "id": "e5b0af1c",
   "metadata": {
    "papermill": {
     "duration": 0.013283,
     "end_time": "2023-06-17T03:19:06.847111",
     "exception": false,
     "start_time": "2023-06-17T03:19:06.833828",
     "status": "completed"
    },
    "tags": []
   },
   "source": [
    "# Exploratory Data Analysis (EDA)\n",
    "\n",
    "## Data Visualization"
   ]
  },
  {
   "cell_type": "code",
   "execution_count": 18,
   "id": "6bcfafbe",
   "metadata": {
    "execution": {
     "iopub.execute_input": "2023-06-17T03:19:06.876564Z",
     "iopub.status.busy": "2023-06-17T03:19:06.875327Z",
     "iopub.status.idle": "2023-06-17T03:19:08.524164Z",
     "shell.execute_reply": "2023-06-17T03:19:08.523180Z"
    },
    "papermill": {
     "duration": 1.665094,
     "end_time": "2023-06-17T03:19:08.526005",
     "exception": false,
     "start_time": "2023-06-17T03:19:06.860911",
     "status": "completed"
    },
    "tags": []
   },
   "outputs": [
    {
     "data": {
      "image/png": "[encoded data removed]",
      "text/plain": [
       "<Figure size 1440x720 with 17 Axes>"
      ]
     },
     "metadata": {},
     "output_type": "display_data"
    }
   ],
   "source": [
    "# Menghitung jumlah baris dan kolom yang dibutuhkan\n",
    "n_cols = len(data_transform.columns)\n",
    "n_rows = math.ceil(n_cols/6)\n",
    "\n",
    "# Mengatur ukuran figure\n",
    "fig, axes = plt.subplots(nrows=n_rows, ncols=6, figsize=(20, 10))\n",
    "\n",
    "# Mengatur jarak antar subplot\n",
    "plt.subplots_adjust(hspace=0.5, wspace=0.5)\n",
    "\n",
    "# Menampilkan histogram pada setiap kolom\n",
    "for i, ax in enumerate(axes.flatten()):\n",
    "    if i < n_cols:\n",
    "        ax.hist(data_transform.iloc[:, i], bins=10)\n",
    "        ax.set_title(data_transform.columns[i])\n",
    "    else:\n",
    "        fig.delaxes(ax) # Menghapus subplot yang tersisa\n",
    "\n",
    "# Menampilkan grafik\n",
    "plt.show()"
   ]
  },
  {
   "cell_type": "code",
   "execution_count": 19,
   "id": "d0e57ae2",
   "metadata": {
    "execution": {
     "iopub.execute_input": "2023-06-17T03:19:08.557017Z",
     "iopub.status.busy": "2023-06-17T03:19:08.556640Z",
     "iopub.status.idle": "2023-06-17T03:19:08.825529Z",
     "shell.execute_reply": "2023-06-17T03:19:08.824435Z"
    },
    "papermill": {
     "duration": 0.28677,
     "end_time": "2023-06-17T03:19:08.827538",
     "exception": false,
     "start_time": "2023-06-17T03:19:08.540768",
     "status": "completed"
    },
    "tags": []
   },
   "outputs": [
    {
     "data": {
      "text/plain": [
       "<AxesSubplot:xlabel='FAVC', ylabel='count'>"
      ]
     },
     "execution_count": 19,
     "metadata": {},
     "output_type": "execute_result"
    },
    {
     "data": {
      "image/png": "[encoded data removed]",
      "text/plain": [
       "<Figure size 1440x576 with 2 Axes>"
      ]
     },
     "metadata": {},
     "output_type": "display_data"
    }
   ],
   "source": [
    "plt.figure(figsize=(20,8))\n",
    "plt.subplot(131)\n",
    "sns.countplot(x= 'FHWO', data = data_transform, palette=\"GnBu_d\",edgecolor=\"black\")\n",
    "plt.subplot(132)\n",
    "sns.countplot(x= 'FAVC', data = data_transform, palette=\"flag\",edgecolor=\"black\")\n",
    "#plt.savefig('count1.png', bbox_inches='tight',pad_inches=0)"
   ]
  },
  {
   "cell_type": "code",
   "execution_count": 20,
   "id": "9b7e1d22",
   "metadata": {
    "execution": {
     "iopub.execute_input": "2023-06-17T03:19:08.859227Z",
     "iopub.status.busy": "2023-06-17T03:19:08.858903Z",
     "iopub.status.idle": "2023-06-17T03:19:09.140112Z",
     "shell.execute_reply": "2023-06-17T03:19:09.138994Z"
    },
    "papermill": {
     "duration": 0.299374,
     "end_time": "2023-06-17T03:19:09.142207",
     "exception": false,
     "start_time": "2023-06-17T03:19:08.842833",
     "status": "completed"
    },
    "tags": []
   },
   "outputs": [
    {
     "data": {
      "text/plain": [
       "<AxesSubplot:xlabel='SMOKE', ylabel='count'>"
      ]
     },
     "execution_count": 20,
     "metadata": {},
     "output_type": "execute_result"
    },
    {
     "data": {
      "image/png": "[encoded data removed]",
      "text/plain": [
       "<Figure size 1440x576 with 2 Axes>"
      ]
     },
     "metadata": {},
     "output_type": "display_data"
    }
   ],
   "source": [
    "plt.figure(figsize=(20,8))\n",
    "plt.subplot(131)\n",
    "sns.countplot(x= 'CAEC', data = data_transform, palette=\"GnBu_d\",edgecolor=\"black\")\n",
    "plt.subplot(132)\n",
    "sns.countplot(x= 'SMOKE', data = data_transform, palette=\"flag\",edgecolor=\"black\")\n",
    "#plt.savefig('count2.png', bbox_inches='tight',pad_inches=0)"
   ]
  },
  {
   "cell_type": "code",
   "execution_count": 21,
   "id": "5e5dc21a",
   "metadata": {
    "execution": {
     "iopub.execute_input": "2023-06-17T03:19:09.176558Z",
     "iopub.status.busy": "2023-06-17T03:19:09.176173Z",
     "iopub.status.idle": "2023-06-17T03:19:09.612945Z",
     "shell.execute_reply": "2023-06-17T03:19:09.611786Z"
    },
    "papermill": {
     "duration": 0.455859,
     "end_time": "2023-06-17T03:19:09.614958",
     "exception": false,
     "start_time": "2023-06-17T03:19:09.159099",
     "status": "completed"
    },
    "tags": []
   },
   "outputs": [
    {
     "data": {
      "text/plain": [
       "<AxesSubplot:xlabel='MTRANS', ylabel='count'>"
      ]
     },
     "execution_count": 21,
     "metadata": {},
     "output_type": "execute_result"
    },
    {
     "data": {
      "image/png": "[encoded data removed]",
      "text/plain": [
       "<Figure size 1800x576 with 3 Axes>"
      ]
     },
     "metadata": {},
     "output_type": "display_data"
    }
   ],
   "source": [
    "plt.figure(figsize=(25,8))\n",
    "plt.subplot(131)\n",
    "sns.countplot(x= 'SCC', data = data_transform, palette=\"GnBu_d\",edgecolor=\"black\")\n",
    "plt.subplot(132)\n",
    "sns.countplot(x= 'CALC', data = data_transform, palette=\"flag\",edgecolor=\"black\")\n",
    "plt.subplot(133)\n",
    "sns.countplot(x= 'MTRANS', data = data_transform, palette=\"Greens_r\",edgecolor=\"black\")\n",
    "#plt.savefig('count3.png', bbox_inches='tight',pad_inches=0)"
   ]
  },
  {
   "cell_type": "code",
   "execution_count": 22,
   "id": "f09a1997",
   "metadata": {
    "execution": {
     "iopub.execute_input": "2023-06-17T03:19:09.650778Z",
     "iopub.status.busy": "2023-06-17T03:19:09.649577Z",
     "iopub.status.idle": "2023-06-17T03:19:09.909603Z",
     "shell.execute_reply": "2023-06-17T03:19:09.908752Z"
    },
    "papermill": {
     "duration": 0.280183,
     "end_time": "2023-06-17T03:19:09.911757",
     "exception": false,
     "start_time": "2023-06-17T03:19:09.631574",
     "status": "completed"
    },
    "tags": []
   },
   "outputs": [
    {
     "data": {
      "text/plain": [
       "Text(0.5, 1.0, 'Distribusi data')"
      ]
     },
     "execution_count": 22,
     "metadata": {},
     "output_type": "execute_result"
    },
    {
     "data": {
      "image/png": "[encoded data removed]",
      "text/plain": [
       "<Figure size 720x720 with 1 Axes>"
      ]
     },
     "metadata": {},
     "output_type": "display_data"
    }
   ],
   "source": [
    "data_pie = data_transform.groupby(['BMI']).sum()\n",
    "data_pie.plot(kind='pie', y='Age', \n",
    "              autopct='%1.0f%%', explode=[0.05]*7, \n",
    "              figsize=(10,10))\n",
    "plt.legend(loc='upper right')\n",
    "plt.title('Distribusi data')\n",
    "#plt.savefig('Distribusi_pie.png')"
   ]
  },
  {
   "cell_type": "code",
   "execution_count": 23,
   "id": "b8f5b8b5",
   "metadata": {
    "execution": {
     "iopub.execute_input": "2023-06-17T03:19:09.948114Z",
     "iopub.status.busy": "2023-06-17T03:19:09.947760Z",
     "iopub.status.idle": "2023-06-17T03:19:09.954250Z",
     "shell.execute_reply": "2023-06-17T03:19:09.953410Z"
    },
    "papermill": {
     "duration": 0.026215,
     "end_time": "2023-06-17T03:19:09.956019",
     "exception": false,
     "start_time": "2023-06-17T03:19:09.929804",
     "status": "completed"
    },
    "tags": []
   },
   "outputs": [],
   "source": [
    "corr = data_transform.corr()"
   ]
  },
  {
   "cell_type": "code",
   "execution_count": 24,
   "id": "3e316516",
   "metadata": {
    "execution": {
     "iopub.execute_input": "2023-06-17T03:19:09.991389Z",
     "iopub.status.busy": "2023-06-17T03:19:09.990501Z",
     "iopub.status.idle": "2023-06-17T03:19:10.843008Z",
     "shell.execute_reply": "2023-06-17T03:19:10.841913Z"
    },
    "papermill": {
     "duration": 0.872507,
     "end_time": "2023-06-17T03:19:10.845151",
     "exception": false,
     "start_time": "2023-06-17T03:19:09.972644",
     "status": "completed"
    },
    "tags": []
   },
   "outputs": [
    {
     "data": {
      "text/plain": [
       "<AxesSubplot:>"
      ]
     },
     "execution_count": 24,
     "metadata": {},
     "output_type": "execute_result"
    },
    {
     "data": {
      "image/png": "[encoded data removed]",
      "text/plain": [
       "<Figure size 1152x720 with 2 Axes>"
      ]
     },
     "metadata": {},
     "output_type": "display_data"
    }
   ],
   "source": [
    "sns.set_theme(style=\"white\")\n",
    "f, ax = plt.subplots(figsize=(16, 10))\n",
    "mask = np.triu(np.ones_like(corr, dtype=bool))\n",
    "cmap = sns.color_palette(\"YlOrBr\", as_cmap=True)\n",
    "sns.heatmap(corr, mask=mask, cmap=cmap, vmax=.3, center=0,\n",
    "            square=True, linewidths=.5, cbar_kws={\"shrink\": .5}, \n",
    "            annot = True, annot_kws={\"size\": 8})\n",
    "#plt.savefig('correlation.png', bbox_inches='tight',pad_inches=0)"
   ]
  },
  {
   "cell_type": "code",
   "execution_count": 25,
   "id": "fa561726",
   "metadata": {
    "execution": {
     "iopub.execute_input": "2023-06-17T03:19:10.884077Z",
     "iopub.status.busy": "2023-06-17T03:19:10.883733Z",
     "iopub.status.idle": "2023-06-17T03:19:17.599409Z",
     "shell.execute_reply": "2023-06-17T03:19:17.598360Z"
    },
    "papermill": {
     "duration": 6.739854,
     "end_time": "2023-06-17T03:19:17.603526",
     "exception": false,
     "start_time": "2023-06-17T03:19:10.863672",
     "status": "completed"
    },
    "tags": []
   },
   "outputs": [
    {
     "data": {
      "text/plain": [
       "<seaborn.axisgrid.PairGrid at 0x14344d97c10>"
      ]
     },
     "execution_count": 25,
     "metadata": {},
     "output_type": "execute_result"
    },
    {
     "data": {
      "image/png": "[encoded data removed]",
      "text/plain": [
       "<Figure size 765.725x720 with 20 Axes>"
      ]
     },
     "metadata": {},
     "output_type": "display_data"
    }
   ],
   "source": [
    "sns.pairplot(data_transform, \n",
    "             hue ='BMI', \n",
    "             vars = ['Gender','Age', \n",
    "                     'Height', 'Weight'])\n",
    "#plt.savefig('pairplot1.png')"
   ]
  },
  {
   "cell_type": "markdown",
   "id": "c18226dc",
   "metadata": {
    "papermill": {
     "duration": 0.023457,
     "end_time": "2023-06-17T03:19:17.650439",
     "exception": false,
     "start_time": "2023-06-17T03:19:17.626982",
     "status": "completed"
    },
    "tags": []
   },
   "source": [
    "## Balancing"
   ]
  },
  {
   "cell_type": "code",
   "execution_count": 26,
   "id": "4c3f85ea",
   "metadata": {
    "execution": {
     "iopub.execute_input": "2023-06-17T03:19:17.699303Z",
     "iopub.status.busy": "2023-06-17T03:19:17.698746Z",
     "iopub.status.idle": "2023-06-17T03:19:17.702752Z",
     "shell.execute_reply": "2023-06-17T03:19:17.702086Z"
    },
    "papermill": {
     "duration": 0.030947,
     "end_time": "2023-06-17T03:19:17.704453",
     "exception": false,
     "start_time": "2023-06-17T03:19:17.673506",
     "status": "completed"
    },
    "tags": []
   },
   "outputs": [],
   "source": [
    "data_input = data_transform.copy()"
   ]
  },
  {
   "cell_type": "code",
   "execution_count": 27,
   "id": "1fcc1297",
   "metadata": {
    "execution": {
     "iopub.execute_input": "2023-06-17T03:19:17.752594Z",
     "iopub.status.busy": "2023-06-17T03:19:17.751972Z",
     "iopub.status.idle": "2023-06-17T03:19:17.943391Z",
     "shell.execute_reply": "2023-06-17T03:19:17.942414Z"
    },
    "papermill": {
     "duration": 0.217634,
     "end_time": "2023-06-17T03:19:17.945343",
     "exception": false,
     "start_time": "2023-06-17T03:19:17.727709",
     "status": "completed"
    },
    "tags": []
   },
   "outputs": [
    {
     "data": {
      "text/plain": [
       "[Text(0, 0, '0'),\n",
       " Text(1, 0, '1'),\n",
       " Text(2, 0, '2'),\n",
       " Text(3, 0, '3'),\n",
       " Text(4, 0, '4'),\n",
       " Text(5, 0, '5'),\n",
       " Text(6, 0, '6')]"
      ]
     },
     "execution_count": 27,
     "metadata": {},
     "output_type": "execute_result"
    },
    {
     "data": {
      "image/png": "[encoded data removed]",
      "text/plain": [
       "<Figure size 432x288 with 1 Axes>"
      ]
     },
     "metadata": {},
     "output_type": "display_data"
    }
   ],
   "source": [
    "ax = sns.countplot(x = \"BMI\",data=data_input, palette=\"flag\",edgecolor=\"black\")\n",
    "plt.title('Distribusi data BMI')\n",
    "sns.set(font_scale=1)\n",
    "ax.set_xticklabels(ax.get_xticklabels(), rotation=90)\n",
    "#plt.savefig('Distribusi_hist.png')"
   ]
  },
  {
   "cell_type": "code",
   "execution_count": 28,
   "id": "0b2e4ad4",
   "metadata": {
    "execution": {
     "iopub.execute_input": "2023-06-17T03:19:17.993857Z",
     "iopub.status.busy": "2023-06-17T03:19:17.993526Z",
     "iopub.status.idle": "2023-06-17T03:19:18.027190Z",
     "shell.execute_reply": "2023-06-17T03:19:18.026544Z"
    },
    "papermill": {
     "duration": 0.060217,
     "end_time": "2023-06-17T03:19:18.028925",
     "exception": false,
     "start_time": "2023-06-17T03:19:17.968708",
     "status": "completed"
    },
    "tags": []
   },
   "outputs": [
    {
     "data": {
      "text/html": [
       "<div>\n",
       "<style scoped>\n",
       "    .dataframe tbody tr th:only-of-type {\n",
       "        vertical-align: middle;\n",
       "    }\n",
       "\n",
       "    .dataframe tbody tr th {\n",
       "        vertical-align: top;\n",
       "    }\n",
       "\n",
       "    .dataframe thead th {\n",
       "        text-align: right;\n",
       "    }\n",
       "</style>\n",
       "<table border=\"1\" class=\"dataframe\">\n",
       "  <thead>\n",
       "    <tr style=\"text-align: right;\">\n",
       "      <th></th>\n",
       "      <th>Gender</th>\n",
       "      <th>Age</th>\n",
       "      <th>Height</th>\n",
       "      <th>Weight</th>\n",
       "      <th>FHWO</th>\n",
       "      <th>FAVC</th>\n",
       "      <th>FCVC</th>\n",
       "      <th>NCP</th>\n",
       "      <th>CAEC</th>\n",
       "      <th>SMOKE</th>\n",
       "      <th>CH2O</th>\n",
       "      <th>SCC</th>\n",
       "      <th>FAF</th>\n",
       "      <th>TUE</th>\n",
       "      <th>CALC</th>\n",
       "      <th>MTRANS</th>\n",
       "      <th>BMI</th>\n",
       "    </tr>\n",
       "  </thead>\n",
       "  <tbody>\n",
       "    <tr>\n",
       "      <th>0</th>\n",
       "      <td>1.0</td>\n",
       "      <td>18.000000</td>\n",
       "      <td>1.701650</td>\n",
       "      <td>50.157707</td>\n",
       "      <td>1.0</td>\n",
       "      <td>1.0</td>\n",
       "      <td>1.757466</td>\n",
       "      <td>3.000000</td>\n",
       "      <td>2.0</td>\n",
       "      <td>0.0</td>\n",
       "      <td>1.153559</td>\n",
       "      <td>0.0</td>\n",
       "      <td>0.833976</td>\n",
       "      <td>1.616045</td>\n",
       "      <td>2.0</td>\n",
       "      <td>3.0</td>\n",
       "      <td>0</td>\n",
       "    </tr>\n",
       "    <tr>\n",
       "      <th>1</th>\n",
       "      <td>0.0</td>\n",
       "      <td>19.000000</td>\n",
       "      <td>1.564199</td>\n",
       "      <td>42.096062</td>\n",
       "      <td>0.0</td>\n",
       "      <td>1.0</td>\n",
       "      <td>3.000000</td>\n",
       "      <td>1.894384</td>\n",
       "      <td>2.0</td>\n",
       "      <td>0.0</td>\n",
       "      <td>2.456581</td>\n",
       "      <td>1.0</td>\n",
       "      <td>1.596576</td>\n",
       "      <td>0.997400</td>\n",
       "      <td>3.0</td>\n",
       "      <td>3.0</td>\n",
       "      <td>0</td>\n",
       "    </tr>\n",
       "    <tr>\n",
       "      <th>2</th>\n",
       "      <td>0.0</td>\n",
       "      <td>19.434709</td>\n",
       "      <td>1.525691</td>\n",
       "      <td>42.000000</td>\n",
       "      <td>0.0</td>\n",
       "      <td>1.0</td>\n",
       "      <td>3.000000</td>\n",
       "      <td>1.000000</td>\n",
       "      <td>1.0</td>\n",
       "      <td>0.0</td>\n",
       "      <td>1.764055</td>\n",
       "      <td>0.0</td>\n",
       "      <td>0.000000</td>\n",
       "      <td>0.560887</td>\n",
       "      <td>2.0</td>\n",
       "      <td>3.0</td>\n",
       "      <td>0</td>\n",
       "    </tr>\n",
       "    <tr>\n",
       "      <th>3</th>\n",
       "      <td>0.0</td>\n",
       "      <td>19.054938</td>\n",
       "      <td>1.585886</td>\n",
       "      <td>42.541794</td>\n",
       "      <td>0.0</td>\n",
       "      <td>0.0</td>\n",
       "      <td>2.910345</td>\n",
       "      <td>3.000000</td>\n",
       "      <td>1.0</td>\n",
       "      <td>0.0</td>\n",
       "      <td>1.000000</td>\n",
       "      <td>1.0</td>\n",
       "      <td>1.461005</td>\n",
       "      <td>0.000000</td>\n",
       "      <td>2.0</td>\n",
       "      <td>3.0</td>\n",
       "      <td>0</td>\n",
       "    </tr>\n",
       "    <tr>\n",
       "      <th>4</th>\n",
       "      <td>1.0</td>\n",
       "      <td>19.799054</td>\n",
       "      <td>1.743702</td>\n",
       "      <td>54.927529</td>\n",
       "      <td>1.0</td>\n",
       "      <td>1.0</td>\n",
       "      <td>2.000000</td>\n",
       "      <td>3.289260</td>\n",
       "      <td>2.0</td>\n",
       "      <td>0.0</td>\n",
       "      <td>2.847264</td>\n",
       "      <td>0.0</td>\n",
       "      <td>1.680844</td>\n",
       "      <td>2.000000</td>\n",
       "      <td>2.0</td>\n",
       "      <td>3.0</td>\n",
       "      <td>0</td>\n",
       "    </tr>\n",
       "    <tr>\n",
       "      <th>...</th>\n",
       "      <td>...</td>\n",
       "      <td>...</td>\n",
       "      <td>...</td>\n",
       "      <td>...</td>\n",
       "      <td>...</td>\n",
       "      <td>...</td>\n",
       "      <td>...</td>\n",
       "      <td>...</td>\n",
       "      <td>...</td>\n",
       "      <td>...</td>\n",
       "      <td>...</td>\n",
       "      <td>...</td>\n",
       "      <td>...</td>\n",
       "      <td>...</td>\n",
       "      <td>...</td>\n",
       "      <td>...</td>\n",
       "      <td>...</td>\n",
       "    </tr>\n",
       "    <tr>\n",
       "      <th>267</th>\n",
       "      <td>0.0</td>\n",
       "      <td>26.000000</td>\n",
       "      <td>1.640125</td>\n",
       "      <td>111.539494</td>\n",
       "      <td>1.0</td>\n",
       "      <td>1.0</td>\n",
       "      <td>3.000000</td>\n",
       "      <td>3.000000</td>\n",
       "      <td>2.0</td>\n",
       "      <td>0.0</td>\n",
       "      <td>2.625537</td>\n",
       "      <td>0.0</td>\n",
       "      <td>0.000000</td>\n",
       "      <td>0.162494</td>\n",
       "      <td>2.0</td>\n",
       "      <td>3.0</td>\n",
       "      <td>6</td>\n",
       "    </tr>\n",
       "    <tr>\n",
       "      <th>268</th>\n",
       "      <td>0.0</td>\n",
       "      <td>26.000000</td>\n",
       "      <td>1.641098</td>\n",
       "      <td>111.818345</td>\n",
       "      <td>1.0</td>\n",
       "      <td>1.0</td>\n",
       "      <td>3.000000</td>\n",
       "      <td>3.000000</td>\n",
       "      <td>2.0</td>\n",
       "      <td>0.0</td>\n",
       "      <td>2.550570</td>\n",
       "      <td>0.0</td>\n",
       "      <td>0.000000</td>\n",
       "      <td>0.204820</td>\n",
       "      <td>2.0</td>\n",
       "      <td>3.0</td>\n",
       "      <td>6</td>\n",
       "    </tr>\n",
       "    <tr>\n",
       "      <th>269</th>\n",
       "      <td>0.0</td>\n",
       "      <td>25.196214</td>\n",
       "      <td>1.686306</td>\n",
       "      <td>104.572712</td>\n",
       "      <td>1.0</td>\n",
       "      <td>1.0</td>\n",
       "      <td>3.000000</td>\n",
       "      <td>3.000000</td>\n",
       "      <td>2.0</td>\n",
       "      <td>0.0</td>\n",
       "      <td>1.152736</td>\n",
       "      <td>0.0</td>\n",
       "      <td>0.319156</td>\n",
       "      <td>1.000000</td>\n",
       "      <td>2.0</td>\n",
       "      <td>3.0</td>\n",
       "      <td>6</td>\n",
       "    </tr>\n",
       "    <tr>\n",
       "      <th>270</th>\n",
       "      <td>0.0</td>\n",
       "      <td>21.768153</td>\n",
       "      <td>1.764160</td>\n",
       "      <td>133.888629</td>\n",
       "      <td>1.0</td>\n",
       "      <td>1.0</td>\n",
       "      <td>3.000000</td>\n",
       "      <td>3.000000</td>\n",
       "      <td>2.0</td>\n",
       "      <td>0.0</td>\n",
       "      <td>2.325020</td>\n",
       "      <td>0.0</td>\n",
       "      <td>1.441791</td>\n",
       "      <td>0.918468</td>\n",
       "      <td>2.0</td>\n",
       "      <td>3.0</td>\n",
       "      <td>6</td>\n",
       "    </tr>\n",
       "    <tr>\n",
       "      <th>271</th>\n",
       "      <td>0.0</td>\n",
       "      <td>26.000000</td>\n",
       "      <td>1.648143</td>\n",
       "      <td>111.950113</td>\n",
       "      <td>1.0</td>\n",
       "      <td>1.0</td>\n",
       "      <td>3.000000</td>\n",
       "      <td>3.000000</td>\n",
       "      <td>2.0</td>\n",
       "      <td>0.0</td>\n",
       "      <td>2.786417</td>\n",
       "      <td>0.0</td>\n",
       "      <td>0.000000</td>\n",
       "      <td>0.079673</td>\n",
       "      <td>2.0</td>\n",
       "      <td>3.0</td>\n",
       "      <td>6</td>\n",
       "    </tr>\n",
       "  </tbody>\n",
       "</table>\n",
       "<p>1904 rows × 17 columns</p>\n",
       "</div>"
      ],
      "text/plain": [
       "     Gender        Age    Height      Weight  FHWO  FAVC      FCVC       NCP  \\\n",
       "0       1.0  18.000000  1.701650   50.157707   1.0   1.0  1.757466  3.000000   \n",
       "1       0.0  19.000000  1.564199   42.096062   0.0   1.0  3.000000  1.894384   \n",
       "2       0.0  19.434709  1.525691   42.000000   0.0   1.0  3.000000  1.000000   \n",
       "3       0.0  19.054938  1.585886   42.541794   0.0   0.0  2.910345  3.000000   \n",
       "4       1.0  19.799054  1.743702   54.927529   1.0   1.0  2.000000  3.289260   \n",
       "..      ...        ...       ...         ...   ...   ...       ...       ...   \n",
       "267     0.0  26.000000  1.640125  111.539494   1.0   1.0  3.000000  3.000000   \n",
       "268     0.0  26.000000  1.641098  111.818345   1.0   1.0  3.000000  3.000000   \n",
       "269     0.0  25.196214  1.686306  104.572712   1.0   1.0  3.000000  3.000000   \n",
       "270     0.0  21.768153  1.764160  133.888629   1.0   1.0  3.000000  3.000000   \n",
       "271     0.0  26.000000  1.648143  111.950113   1.0   1.0  3.000000  3.000000   \n",
       "\n",
       "     CAEC  SMOKE      CH2O  SCC       FAF       TUE  CALC  MTRANS  BMI  \n",
       "0     2.0    0.0  1.153559  0.0  0.833976  1.616045   2.0     3.0    0  \n",
       "1     2.0    0.0  2.456581  1.0  1.596576  0.997400   3.0     3.0    0  \n",
       "2     1.0    0.0  1.764055  0.0  0.000000  0.560887   2.0     3.0    0  \n",
       "3     1.0    0.0  1.000000  1.0  1.461005  0.000000   2.0     3.0    0  \n",
       "4     2.0    0.0  2.847264  0.0  1.680844  2.000000   2.0     3.0    0  \n",
       "..    ...    ...       ...  ...       ...       ...   ...     ...  ...  \n",
       "267   2.0    0.0  2.625537  0.0  0.000000  0.162494   2.0     3.0    6  \n",
       "268   2.0    0.0  2.550570  0.0  0.000000  0.204820   2.0     3.0    6  \n",
       "269   2.0    0.0  1.152736  0.0  0.319156  1.000000   2.0     3.0    6  \n",
       "270   2.0    0.0  2.325020  0.0  1.441791  0.918468   2.0     3.0    6  \n",
       "271   2.0    0.0  2.786417  0.0  0.000000  0.079673   2.0     3.0    6  \n",
       "\n",
       "[1904 rows x 17 columns]"
      ]
     },
     "execution_count": 28,
     "metadata": {},
     "output_type": "execute_result"
    }
   ],
   "source": [
    "data_grouped_by = data_input.groupby(['BMI'])\n",
    "data_balanced = data_grouped_by.apply(lambda x: x.sample(data_grouped_by.size().min()).reset_index(drop=True))\n",
    "data_bal = data_balanced.droplevel(['BMI'])\n",
    "data_bal"
   ]
  },
  {
   "cell_type": "code",
   "execution_count": 29,
   "id": "d619aacb",
   "metadata": {
    "execution": {
     "iopub.execute_input": "2023-06-17T03:19:18.078910Z",
     "iopub.status.busy": "2023-06-17T03:19:18.077882Z",
     "iopub.status.idle": "2023-06-17T03:19:18.268708Z",
     "shell.execute_reply": "2023-06-17T03:19:18.267668Z"
    },
    "papermill": {
     "duration": 0.217755,
     "end_time": "2023-06-17T03:19:18.270628",
     "exception": false,
     "start_time": "2023-06-17T03:19:18.052873",
     "status": "completed"
    },
    "tags": []
   },
   "outputs": [
    {
     "data": {
      "text/plain": [
       "[Text(0, 0, '0'),\n",
       " Text(1, 0, '1'),\n",
       " Text(2, 0, '2'),\n",
       " Text(3, 0, '3'),\n",
       " Text(4, 0, '4'),\n",
       " Text(5, 0, '5'),\n",
       " Text(6, 0, '6')]"
      ]
     },
     "execution_count": 29,
     "metadata": {},
     "output_type": "execute_result"
    },
    {
     "data": {
      "image/png": "[encoded data removed]",
      "text/plain": [
       "<Figure size 432x288 with 1 Axes>"
      ]
     },
     "metadata": {},
     "output_type": "display_data"
    }
   ],
   "source": [
    "ax = sns.countplot(x = \"BMI\",data=data_bal, palette=\"flag\",edgecolor=\"black\")\n",
    "plt.title('Distribusi data BMI (balance)')\n",
    "sns.set(font_scale=1)\n",
    "ax.set_xticklabels(ax.get_xticklabels(), rotation=90)\n",
    "#plt.savefig('Distribusi_hist.png')"
   ]
  },
  {
   "cell_type": "code",
   "execution_count": 30,
   "id": "692339de",
   "metadata": {
    "execution": {
     "iopub.execute_input": "2023-06-17T03:19:18.321901Z",
     "iopub.status.busy": "2023-06-17T03:19:18.321135Z",
     "iopub.status.idle": "2023-06-17T03:19:18.335192Z",
     "shell.execute_reply": "2023-06-17T03:19:18.333855Z"
    },
    "papermill": {
     "duration": 0.041354,
     "end_time": "2023-06-17T03:19:18.337083",
     "exception": false,
     "start_time": "2023-06-17T03:19:18.295729",
     "status": "completed"
    },
    "tags": []
   },
   "outputs": [
    {
     "name": "stdout",
     "output_type": "stream",
     "text": [
      "0 Value Unique Gender:\n",
      " 1.0    971\n",
      "0.0    933\n",
      "Name: Gender, dtype: int64 \n",
      "\n",
      "1 Value Unique FHWO:\n",
      " 1.0    1534\n",
      "0.0     370\n",
      "Name: FHWO, dtype: int64 \n",
      "\n",
      "2 Value Unique FAVC:\n",
      " 1.0    1673\n",
      "0.0     231\n",
      "Name: FAVC, dtype: int64 \n",
      "\n",
      "3 Value Unique CAEC:\n",
      " 2.0    1576\n",
      "1.0     233\n",
      "3.0      48\n",
      "0.0      47\n",
      "Name: CAEC, dtype: int64 \n",
      "\n",
      "4 Value Unique SMOKE:\n",
      " 0.0    1864\n",
      "1.0      40\n",
      "Name: SMOKE, dtype: int64 \n",
      "\n",
      "5 Value Unique SCC:\n",
      " 0.0    1814\n",
      "1.0      90\n",
      "Name: SCC, dtype: int64 \n",
      "\n",
      "6 Value Unique CALC:\n",
      " 2.0    1271\n",
      "3.0     567\n",
      "1.0      65\n",
      "0.0       1\n",
      "Name: CALC, dtype: int64 \n",
      "\n",
      "7 Value Unique MTRANS:\n",
      " 3.0    1419\n",
      "0.0     417\n",
      "4.0      53\n",
      "2.0       8\n",
      "1.0       7\n",
      "Name: MTRANS, dtype: int64 \n",
      "\n",
      "8 Value Unique BMI:\n",
      " 0    272\n",
      "1    272\n",
      "2    272\n",
      "3    272\n",
      "4    272\n",
      "5    272\n",
      "6    272\n",
      "Name: BMI, dtype: int64 \n",
      "\n"
     ]
    }
   ],
   "source": [
    "printf = 'Value Unique {}:\\n {} \\n'\n",
    "\n",
    "for count, i in enumerate(object_cols):\n",
    "    val_count = data_bal['{}'.format(i)].value_counts()\n",
    "    print(count, printf.format(i, val_count))"
   ]
  },
  {
   "cell_type": "code",
   "execution_count": 31,
   "id": "ecbe25eb",
   "metadata": {
    "execution": {
     "iopub.execute_input": "2023-06-17T03:19:18.387545Z",
     "iopub.status.busy": "2023-06-17T03:19:18.387174Z",
     "iopub.status.idle": "2023-06-17T03:19:18.393209Z",
     "shell.execute_reply": "2023-06-17T03:19:18.392279Z"
    },
    "papermill": {
     "duration": 0.033567,
     "end_time": "2023-06-17T03:19:18.395228",
     "exception": false,
     "start_time": "2023-06-17T03:19:18.361661",
     "status": "completed"
    },
    "tags": []
   },
   "outputs": [],
   "source": [
    "drop_col = ['Gender','NCP','SMOKE','MTRANS']\n",
    "data_bal = data_bal.drop(drop_col, axis=1)\n",
    "good_label_cols.remove('Gender')\n",
    "good_label_cols.remove('SMOKE')\n",
    "good_label_cols.remove('MTRANS')"
   ]
  },
  {
   "cell_type": "markdown",
   "id": "e616defb",
   "metadata": {
    "papermill": {
     "duration": 0.025597,
     "end_time": "2023-06-17T03:19:18.445267",
     "exception": false,
     "start_time": "2023-06-17T03:19:18.419670",
     "status": "completed"
    },
    "tags": []
   },
   "source": [
    "# EDA Report:\n",
    "\n",
    "- Jumlah sampel pada setiap kelas mula-mula:\n",
    "Obesity_Type_I 351, Obesity_Type_III 324, Obesity_Type_I 297, Overweight_Level_I 290, Overweight_Level_II 290, Normal_Weight 287, Insufficient_Weight 272\n",
    "\n",
    "- Setelah dilakukan balancing didapatkan sampel per kelas adalah 272. Sehingga ukuran data menjadi 1904 sampel.\n",
    "\n",
    "- Hasil korelasi antar atribut menyatakan bahwa terdapat variabel-variabel yang berkorelasi satu sama lain:\n",
    "    - BMI dan Weight: 0.91\n",
    "    - FHWO dan Weight: 0.5\n",
    "    - Gender dan Height: 0.62\n",
    "    \n",
    "- Selain itu, terdapat atribut yang tidak berkorelasi, seperti:\n",
    "    - SMOKE dan Age: 0.092\n",
    "    - CAEC dan Height: 0.055\n",
    "    - NCP dan DAVC: -0.007\n",
    "    \n",
    "- Pada target, atribut yang memiliki korelasi rendah adalah: Gender, NCP, SMOKE, dan MTRANS. Sehingga 4 atribut itu akan di drop"
   ]
  },
  {
   "cell_type": "markdown",
   "id": "f2433a50",
   "metadata": {
    "papermill": {
     "duration": 0.024343,
     "end_time": "2023-06-17T03:19:18.494598",
     "exception": false,
     "start_time": "2023-06-17T03:19:18.470255",
     "status": "completed"
    },
    "tags": []
   },
   "source": [
    "# Modeling"
   ]
  },
  {
   "cell_type": "markdown",
   "id": "dc364e86",
   "metadata": {
    "papermill": {
     "duration": 0.023869,
     "end_time": "2023-06-17T03:19:18.543161",
     "exception": false,
     "start_time": "2023-06-17T03:19:18.519292",
     "status": "completed"
    },
    "tags": []
   },
   "source": [
    "## Persiapan Features dan Label"
   ]
  },
  {
   "cell_type": "code",
   "execution_count": 32,
   "id": "815f1d7a",
   "metadata": {
    "execution": {
     "iopub.execute_input": "2023-06-17T03:19:18.595707Z",
     "iopub.status.busy": "2023-06-17T03:19:18.594889Z",
     "iopub.status.idle": "2023-06-17T03:19:18.604351Z",
     "shell.execute_reply": "2023-06-17T03:19:18.603704Z"
    },
    "papermill": {
     "duration": 0.037762,
     "end_time": "2023-06-17T03:19:18.606237",
     "exception": false,
     "start_time": "2023-06-17T03:19:18.568475",
     "status": "completed"
    },
    "tags": []
   },
   "outputs": [],
   "source": [
    "data_preprocess = pd.get_dummies(data_bal, columns = good_label_cols)"
   ]
  },
  {
   "cell_type": "code",
   "execution_count": 33,
   "id": "3a321150",
   "metadata": {
    "execution": {
     "iopub.execute_input": "2023-06-17T03:19:18.658422Z",
     "iopub.status.busy": "2023-06-17T03:19:18.657873Z",
     "iopub.status.idle": "2023-06-17T03:19:18.664059Z",
     "shell.execute_reply": "2023-06-17T03:19:18.662940Z"
    },
    "papermill": {
     "duration": 0.036418,
     "end_time": "2023-06-17T03:19:18.666937",
     "exception": false,
     "start_time": "2023-06-17T03:19:18.630519",
     "status": "completed"
    },
    "tags": []
   },
   "outputs": [],
   "source": [
    "target_name = 'BMI'\n",
    "labels = data_preprocess[target_name]\n",
    "features = data_preprocess.drop(target_name, axis=1)"
   ]
  },
  {
   "cell_type": "code",
   "execution_count": 34,
   "id": "9e107df2",
   "metadata": {
    "execution": {
     "iopub.execute_input": "2023-06-17T03:19:18.717096Z",
     "iopub.status.busy": "2023-06-17T03:19:18.716579Z",
     "iopub.status.idle": "2023-06-17T03:19:18.736624Z",
     "shell.execute_reply": "2023-06-17T03:19:18.735677Z"
    },
    "papermill": {
     "duration": 0.047432,
     "end_time": "2023-06-17T03:19:18.738555",
     "exception": false,
     "start_time": "2023-06-17T03:19:18.691123",
     "status": "completed"
    },
    "tags": []
   },
   "outputs": [
    {
     "data": {
      "text/html": [
       "<div>\n",
       "<style scoped>\n",
       "    .dataframe tbody tr th:only-of-type {\n",
       "        vertical-align: middle;\n",
       "    }\n",
       "\n",
       "    .dataframe tbody tr th {\n",
       "        vertical-align: top;\n",
       "    }\n",
       "\n",
       "    .dataframe thead th {\n",
       "        text-align: right;\n",
       "    }\n",
       "</style>\n",
       "<table border=\"1\" class=\"dataframe\">\n",
       "  <thead>\n",
       "    <tr style=\"text-align: right;\">\n",
       "      <th></th>\n",
       "      <th>Age</th>\n",
       "      <th>Height</th>\n",
       "      <th>Weight</th>\n",
       "      <th>FCVC</th>\n",
       "      <th>CH2O</th>\n",
       "      <th>FAF</th>\n",
       "      <th>TUE</th>\n",
       "      <th>FHWO_0.0</th>\n",
       "      <th>FHWO_1.0</th>\n",
       "      <th>FAVC_0.0</th>\n",
       "      <th>FAVC_1.0</th>\n",
       "      <th>CAEC_0.0</th>\n",
       "      <th>CAEC_1.0</th>\n",
       "      <th>CAEC_2.0</th>\n",
       "      <th>CAEC_3.0</th>\n",
       "      <th>SCC_0.0</th>\n",
       "      <th>SCC_1.0</th>\n",
       "      <th>CALC_0.0</th>\n",
       "      <th>CALC_1.0</th>\n",
       "      <th>CALC_2.0</th>\n",
       "      <th>CALC_3.0</th>\n",
       "    </tr>\n",
       "  </thead>\n",
       "  <tbody>\n",
       "    <tr>\n",
       "      <th>0</th>\n",
       "      <td>18.000000</td>\n",
       "      <td>1.701650</td>\n",
       "      <td>50.157707</td>\n",
       "      <td>1.757466</td>\n",
       "      <td>1.153559</td>\n",
       "      <td>0.833976</td>\n",
       "      <td>1.616045</td>\n",
       "      <td>0</td>\n",
       "      <td>1</td>\n",
       "      <td>0</td>\n",
       "      <td>1</td>\n",
       "      <td>0</td>\n",
       "      <td>0</td>\n",
       "      <td>1</td>\n",
       "      <td>0</td>\n",
       "      <td>1</td>\n",
       "      <td>0</td>\n",
       "      <td>0</td>\n",
       "      <td>0</td>\n",
       "      <td>1</td>\n",
       "      <td>0</td>\n",
       "    </tr>\n",
       "    <tr>\n",
       "      <th>1</th>\n",
       "      <td>19.000000</td>\n",
       "      <td>1.564199</td>\n",
       "      <td>42.096062</td>\n",
       "      <td>3.000000</td>\n",
       "      <td>2.456581</td>\n",
       "      <td>1.596576</td>\n",
       "      <td>0.997400</td>\n",
       "      <td>1</td>\n",
       "      <td>0</td>\n",
       "      <td>0</td>\n",
       "      <td>1</td>\n",
       "      <td>0</td>\n",
       "      <td>0</td>\n",
       "      <td>1</td>\n",
       "      <td>0</td>\n",
       "      <td>0</td>\n",
       "      <td>1</td>\n",
       "      <td>0</td>\n",
       "      <td>0</td>\n",
       "      <td>0</td>\n",
       "      <td>1</td>\n",
       "    </tr>\n",
       "    <tr>\n",
       "      <th>2</th>\n",
       "      <td>19.434709</td>\n",
       "      <td>1.525691</td>\n",
       "      <td>42.000000</td>\n",
       "      <td>3.000000</td>\n",
       "      <td>1.764055</td>\n",
       "      <td>0.000000</td>\n",
       "      <td>0.560887</td>\n",
       "      <td>1</td>\n",
       "      <td>0</td>\n",
       "      <td>0</td>\n",
       "      <td>1</td>\n",
       "      <td>0</td>\n",
       "      <td>1</td>\n",
       "      <td>0</td>\n",
       "      <td>0</td>\n",
       "      <td>1</td>\n",
       "      <td>0</td>\n",
       "      <td>0</td>\n",
       "      <td>0</td>\n",
       "      <td>1</td>\n",
       "      <td>0</td>\n",
       "    </tr>\n",
       "    <tr>\n",
       "      <th>3</th>\n",
       "      <td>19.054938</td>\n",
       "      <td>1.585886</td>\n",
       "      <td>42.541794</td>\n",
       "      <td>2.910345</td>\n",
       "      <td>1.000000</td>\n",
       "      <td>1.461005</td>\n",
       "      <td>0.000000</td>\n",
       "      <td>1</td>\n",
       "      <td>0</td>\n",
       "      <td>1</td>\n",
       "      <td>0</td>\n",
       "      <td>0</td>\n",
       "      <td>1</td>\n",
       "      <td>0</td>\n",
       "      <td>0</td>\n",
       "      <td>0</td>\n",
       "      <td>1</td>\n",
       "      <td>0</td>\n",
       "      <td>0</td>\n",
       "      <td>1</td>\n",
       "      <td>0</td>\n",
       "    </tr>\n",
       "    <tr>\n",
       "      <th>4</th>\n",
       "      <td>19.799054</td>\n",
       "      <td>1.743702</td>\n",
       "      <td>54.927529</td>\n",
       "      <td>2.000000</td>\n",
       "      <td>2.847264</td>\n",
       "      <td>1.680844</td>\n",
       "      <td>2.000000</td>\n",
       "      <td>0</td>\n",
       "      <td>1</td>\n",
       "      <td>0</td>\n",
       "      <td>1</td>\n",
       "      <td>0</td>\n",
       "      <td>0</td>\n",
       "      <td>1</td>\n",
       "      <td>0</td>\n",
       "      <td>1</td>\n",
       "      <td>0</td>\n",
       "      <td>0</td>\n",
       "      <td>0</td>\n",
       "      <td>1</td>\n",
       "      <td>0</td>\n",
       "    </tr>\n",
       "    <tr>\n",
       "      <th>...</th>\n",
       "      <td>...</td>\n",
       "      <td>...</td>\n",
       "      <td>...</td>\n",
       "      <td>...</td>\n",
       "      <td>...</td>\n",
       "      <td>...</td>\n",
       "      <td>...</td>\n",
       "      <td>...</td>\n",
       "      <td>...</td>\n",
       "      <td>...</td>\n",
       "      <td>...</td>\n",
       "      <td>...</td>\n",
       "      <td>...</td>\n",
       "      <td>...</td>\n",
       "      <td>...</td>\n",
       "      <td>...</td>\n",
       "      <td>...</td>\n",
       "      <td>...</td>\n",
       "      <td>...</td>\n",
       "      <td>...</td>\n",
       "      <td>...</td>\n",
       "    </tr>\n",
       "    <tr>\n",
       "      <th>267</th>\n",
       "      <td>26.000000</td>\n",
       "      <td>1.640125</td>\n",
       "      <td>111.539494</td>\n",
       "      <td>3.000000</td>\n",
       "      <td>2.625537</td>\n",
       "      <td>0.000000</td>\n",
       "      <td>0.162494</td>\n",
       "      <td>0</td>\n",
       "      <td>1</td>\n",
       "      <td>0</td>\n",
       "      <td>1</td>\n",
       "      <td>0</td>\n",
       "      <td>0</td>\n",
       "      <td>1</td>\n",
       "      <td>0</td>\n",
       "      <td>1</td>\n",
       "      <td>0</td>\n",
       "      <td>0</td>\n",
       "      <td>0</td>\n",
       "      <td>1</td>\n",
       "      <td>0</td>\n",
       "    </tr>\n",
       "    <tr>\n",
       "      <th>268</th>\n",
       "      <td>26.000000</td>\n",
       "      <td>1.641098</td>\n",
       "      <td>111.818345</td>\n",
       "      <td>3.000000</td>\n",
       "      <td>2.550570</td>\n",
       "      <td>0.000000</td>\n",
       "      <td>0.204820</td>\n",
       "      <td>0</td>\n",
       "      <td>1</td>\n",
       "      <td>0</td>\n",
       "      <td>1</td>\n",
       "      <td>0</td>\n",
       "      <td>0</td>\n",
       "      <td>1</td>\n",
       "      <td>0</td>\n",
       "      <td>1</td>\n",
       "      <td>0</td>\n",
       "      <td>0</td>\n",
       "      <td>0</td>\n",
       "      <td>1</td>\n",
       "      <td>0</td>\n",
       "    </tr>\n",
       "    <tr>\n",
       "      <th>269</th>\n",
       "      <td>25.196214</td>\n",
       "      <td>1.686306</td>\n",
       "      <td>104.572712</td>\n",
       "      <td>3.000000</td>\n",
       "      <td>1.152736</td>\n",
       "      <td>0.319156</td>\n",
       "      <td>1.000000</td>\n",
       "      <td>0</td>\n",
       "      <td>1</td>\n",
       "      <td>0</td>\n",
       "      <td>1</td>\n",
       "      <td>0</td>\n",
       "      <td>0</td>\n",
       "      <td>1</td>\n",
       "      <td>0</td>\n",
       "      <td>1</td>\n",
       "      <td>0</td>\n",
       "      <td>0</td>\n",
       "      <td>0</td>\n",
       "      <td>1</td>\n",
       "      <td>0</td>\n",
       "    </tr>\n",
       "    <tr>\n",
       "      <th>270</th>\n",
       "      <td>21.768153</td>\n",
       "      <td>1.764160</td>\n",
       "      <td>133.888629</td>\n",
       "      <td>3.000000</td>\n",
       "      <td>2.325020</td>\n",
       "      <td>1.441791</td>\n",
       "      <td>0.918468</td>\n",
       "      <td>0</td>\n",
       "      <td>1</td>\n",
       "      <td>0</td>\n",
       "      <td>1</td>\n",
       "      <td>0</td>\n",
       "      <td>0</td>\n",
       "      <td>1</td>\n",
       "      <td>0</td>\n",
       "      <td>1</td>\n",
       "      <td>0</td>\n",
       "      <td>0</td>\n",
       "      <td>0</td>\n",
       "      <td>1</td>\n",
       "      <td>0</td>\n",
       "    </tr>\n",
       "    <tr>\n",
       "      <th>271</th>\n",
       "      <td>26.000000</td>\n",
       "      <td>1.648143</td>\n",
       "      <td>111.950113</td>\n",
       "      <td>3.000000</td>\n",
       "      <td>2.786417</td>\n",
       "      <td>0.000000</td>\n",
       "      <td>0.079673</td>\n",
       "      <td>0</td>\n",
       "      <td>1</td>\n",
       "      <td>0</td>\n",
       "      <td>1</td>\n",
       "      <td>0</td>\n",
       "      <td>0</td>\n",
       "      <td>1</td>\n",
       "      <td>0</td>\n",
       "      <td>1</td>\n",
       "      <td>0</td>\n",
       "      <td>0</td>\n",
       "      <td>0</td>\n",
       "      <td>1</td>\n",
       "      <td>0</td>\n",
       "    </tr>\n",
       "  </tbody>\n",
       "</table>\n",
       "<p>1904 rows × 21 columns</p>\n",
       "</div>"
      ],
      "text/plain": [
       "           Age    Height      Weight      FCVC      CH2O       FAF       TUE  \\\n",
       "0    18.000000  1.701650   50.157707  1.757466  1.153559  0.833976  1.616045   \n",
       "1    19.000000  1.564199   42.096062  3.000000  2.456581  1.596576  0.997400   \n",
       "2    19.434709  1.525691   42.000000  3.000000  1.764055  0.000000  0.560887   \n",
       "3    19.054938  1.585886   42.541794  2.910345  1.000000  1.461005  0.000000   \n",
       "4    19.799054  1.743702   54.927529  2.000000  2.847264  1.680844  2.000000   \n",
       "..         ...       ...         ...       ...       ...       ...       ...   \n",
       "267  26.000000  1.640125  111.539494  3.000000  2.625537  0.000000  0.162494   \n",
       "268  26.000000  1.641098  111.818345  3.000000  2.550570  0.000000  0.204820   \n",
       "269  25.196214  1.686306  104.572712  3.000000  1.152736  0.319156  1.000000   \n",
       "270  21.768153  1.764160  133.888629  3.000000  2.325020  1.441791  0.918468   \n",
       "271  26.000000  1.648143  111.950113  3.000000  2.786417  0.000000  0.079673   \n",
       "\n",
       "     FHWO_0.0  FHWO_1.0  FAVC_0.0  FAVC_1.0  CAEC_0.0  CAEC_1.0  CAEC_2.0  \\\n",
       "0           0         1         0         1         0         0         1   \n",
       "1           1         0         0         1         0         0         1   \n",
       "2           1         0         0         1         0         1         0   \n",
       "3           1         0         1         0         0         1         0   \n",
       "4           0         1         0         1         0         0         1   \n",
       "..        ...       ...       ...       ...       ...       ...       ...   \n",
       "267         0         1         0         1         0         0         1   \n",
       "268         0         1         0         1         0         0         1   \n",
       "269         0         1         0         1         0         0         1   \n",
       "270         0         1         0         1         0         0         1   \n",
       "271         0         1         0         1         0         0         1   \n",
       "\n",
       "     CAEC_3.0  SCC_0.0  SCC_1.0  CALC_0.0  CALC_1.0  CALC_2.0  CALC_3.0  \n",
       "0           0        1        0         0         0         1         0  \n",
       "1           0        0        1         0         0         0         1  \n",
       "2           0        1        0         0         0         1         0  \n",
       "3           0        0        1         0         0         1         0  \n",
       "4           0        1        0         0         0         1         0  \n",
       "..        ...      ...      ...       ...       ...       ...       ...  \n",
       "267         0        1        0         0         0         1         0  \n",
       "268         0        1        0         0         0         1         0  \n",
       "269         0        1        0         0         0         1         0  \n",
       "270         0        1        0         0         0         1         0  \n",
       "271         0        1        0         0         0         1         0  \n",
       "\n",
       "[1904 rows x 21 columns]"
      ]
     },
     "execution_count": 34,
     "metadata": {},
     "output_type": "execute_result"
    }
   ],
   "source": [
    "features"
   ]
  },
  {
   "cell_type": "code",
   "execution_count": 35,
   "id": "0cecfa8b",
   "metadata": {
    "execution": {
     "iopub.execute_input": "2023-06-17T03:19:18.790268Z",
     "iopub.status.busy": "2023-06-17T03:19:18.789648Z",
     "iopub.status.idle": "2023-06-17T03:19:18.795465Z",
     "shell.execute_reply": "2023-06-17T03:19:18.794413Z"
    },
    "papermill": {
     "duration": 0.034304,
     "end_time": "2023-06-17T03:19:18.797383",
     "exception": false,
     "start_time": "2023-06-17T03:19:18.763079",
     "status": "completed"
    },
    "tags": []
   },
   "outputs": [
    {
     "name": "stdout",
     "output_type": "stream",
     "text": [
      "0 Age\n",
      "1 Height\n",
      "2 Weight\n",
      "3 FCVC\n",
      "4 CH2O\n",
      "5 FAF\n",
      "6 TUE\n",
      "7 FHWO_0.0\n",
      "8 FHWO_1.0\n",
      "9 FAVC_0.0\n",
      "10 FAVC_1.0\n",
      "11 CAEC_0.0\n",
      "12 CAEC_1.0\n",
      "13 CAEC_2.0\n",
      "14 CAEC_3.0\n",
      "15 SCC_0.0\n",
      "16 SCC_1.0\n",
      "17 CALC_0.0\n",
      "18 CALC_1.0\n",
      "19 CALC_2.0\n",
      "20 CALC_3.0\n"
     ]
    }
   ],
   "source": [
    "features_col = features.columns\n",
    "for i, j in enumerate(features_col):\n",
    "    print(i, j)"
   ]
  },
  {
   "cell_type": "code",
   "execution_count": 36,
   "id": "45620702",
   "metadata": {
    "execution": {
     "iopub.execute_input": "2023-06-17T03:19:18.848786Z",
     "iopub.status.busy": "2023-06-17T03:19:18.848107Z",
     "iopub.status.idle": "2023-06-17T03:19:18.856210Z",
     "shell.execute_reply": "2023-06-17T03:19:18.855007Z"
    },
    "papermill": {
     "duration": 0.036506,
     "end_time": "2023-06-17T03:19:18.858566",
     "exception": false,
     "start_time": "2023-06-17T03:19:18.822060",
     "status": "completed"
    },
    "tags": []
   },
   "outputs": [],
   "source": [
    "features = MinMaxScaler().fit_transform(features)"
   ]
  },
  {
   "cell_type": "markdown",
   "id": "564e2ea6",
   "metadata": {
    "papermill": {
     "duration": 0.02457,
     "end_time": "2023-06-17T03:19:18.907909",
     "exception": false,
     "start_time": "2023-06-17T03:19:18.883339",
     "status": "completed"
    },
    "tags": []
   },
   "source": [
    "## Fitting Random Forest"
   ]
  },
  {
   "cell_type": "code",
   "execution_count": 37,
   "id": "eaba6c99",
   "metadata": {
    "execution": {
     "iopub.execute_input": "2023-06-17T03:19:18.958869Z",
     "iopub.status.busy": "2023-06-17T03:19:18.958298Z",
     "iopub.status.idle": "2023-06-17T03:23:23.713188Z",
     "shell.execute_reply": "2023-06-17T03:23:23.711489Z"
    },
    "papermill": {
     "duration": 244.805622,
     "end_time": "2023-06-17T03:23:23.738231",
     "exception": false,
     "start_time": "2023-06-17T03:19:18.932609",
     "status": "completed"
    },
    "tags": []
   },
   "outputs": [
    {
     "name": "stdout",
     "output_type": "stream",
     "text": [
      "Train score: 1.0000\n",
      "Test score: 0.9160\n",
      "Best random state: 1\n",
      "{'1': 0.916010498687664}\n",
      "Wall time: 989 ms\n"
     ]
    }
   ],
   "source": [
    "%%time\n",
    "best_accuracy_train = 0.0\n",
    "best_accuracy_test = 0.0\n",
    "best_random_state = None\n",
    "rs_range = np.arange(1,2) # 1 - 20_000\n",
    "N = len(rs_range)\n",
    "acc_test_list = np.zeros(N)\n",
    "test_list = {}\n",
    "\n",
    "for i in range(N):\n",
    "    train_features, test_features, train_labels, test_labels = train_test_split(\n",
    "        features, labels, train_size=0.8, random_state=rs_range[i])\n",
    "\n",
    "    rfc = RandomForestClassifier(random_state=rs_range[i])\n",
    "    rfc.fit(train_features, train_labels)\n",
    "\n",
    "    train_score = rfc.score(train_features, train_labels)\n",
    "    test_score = rfc.score(test_features, test_labels)\n",
    "     \n",
    "    acc_test_list[i] = test_score\n",
    "    \n",
    "    if test_score > best_accuracy_test:\n",
    "        best_accuracy_train = train_score\n",
    "        best_accuracy_test = test_score\n",
    "        best_random_state = rs_range[i]\n",
    "        rfc_best = rfc\n",
    "        test_list['{}'.format(rs_range[i])] = test_score\n",
    "        \n",
    "    if test_score >= 0.9735:\n",
    "        break\n",
    "\n",
    "print(f\"Train score: {best_accuracy_train:.4f}\") \n",
    "print(f\"Test score: {best_accuracy_test:.4f}\") \n",
    "print(f\"Best random state: {best_random_state}\")\n",
    "print(test_list)"
   ]
  },
  {
   "cell_type": "code",
   "execution_count": 38,
   "id": "0310b791",
   "metadata": {
    "execution": {
     "iopub.execute_input": "2023-06-17T03:23:23.789991Z",
     "iopub.status.busy": "2023-06-17T03:23:23.789645Z",
     "iopub.status.idle": "2023-06-17T03:23:23.797150Z",
     "shell.execute_reply": "2023-06-17T03:23:23.795746Z"
    },
    "papermill": {
     "duration": 0.03552,
     "end_time": "2023-06-17T03:23:23.799072",
     "exception": false,
     "start_time": "2023-06-17T03:23:23.763552",
     "status": "completed"
    },
    "tags": []
   },
   "outputs": [
    {
     "name": "stdout",
     "output_type": "stream",
     "text": [
      "max_test: 0.916010498687664\n",
      "rs: 1\n"
     ]
    }
   ],
   "source": [
    "max_test = max(acc_test_list)\n",
    "loc_maxtest = np.where(acc_test_list == max_test)\n",
    "rs_maxtest = rs_range[loc_maxtest]\n",
    "\n",
    "print('max_test:', max_test)\n",
    "print('rs:', rs_maxtest[0])"
   ]
  },
  {
   "cell_type": "code",
   "execution_count": 39,
   "id": "f4785445",
   "metadata": {
    "execution": {
     "iopub.execute_input": "2023-06-17T03:23:23.850726Z",
     "iopub.status.busy": "2023-06-17T03:23:23.849790Z",
     "iopub.status.idle": "2023-06-17T03:23:24.069932Z",
     "shell.execute_reply": "2023-06-17T03:23:24.068777Z"
    },
    "papermill": {
     "duration": 0.248715,
     "end_time": "2023-06-17T03:23:24.072399",
     "exception": false,
     "start_time": "2023-06-17T03:23:23.823684",
     "status": "completed"
    },
    "tags": []
   },
   "outputs": [
    {
     "data": {
      "text/plain": [
       "Text(0.5, 0, 'Random State')"
      ]
     },
     "execution_count": 39,
     "metadata": {},
     "output_type": "execute_result"
    },
    {
     "data": {
      "image/png": "[encoded data removed]",
      "text/plain": [
       "<Figure size 432x288 with 1 Axes>"
      ]
     },
     "metadata": {},
     "output_type": "display_data"
    }
   ],
   "source": [
    "plt.plot(rs_range, acc_test_list, '-x')\n",
    "plt.title('Grafik Pencarian Random State')\n",
    "plt.ylabel('Test Score')\n",
    "plt.xlabel('Random State')"
   ]
  },
  {
   "cell_type": "code",
   "execution_count": 40,
   "id": "d80a0b87",
   "metadata": {
    "execution": {
     "iopub.execute_input": "2023-06-17T03:23:24.125076Z",
     "iopub.status.busy": "2023-06-17T03:23:24.124676Z",
     "iopub.status.idle": "2023-06-17T03:23:24.816652Z",
     "shell.execute_reply": "2023-06-17T03:23:24.815992Z"
    },
    "papermill": {
     "duration": 0.720143,
     "end_time": "2023-06-17T03:23:24.818334",
     "exception": false,
     "start_time": "2023-06-17T03:23:24.098191",
     "status": "completed"
    },
    "tags": []
   },
   "outputs": [
    {
     "name": "stdout",
     "output_type": "stream",
     "text": [
      "Train score: 1.0000\n",
      "Test score: 0.9160\n",
      "Classification Report of Random Forest Classifier : \n",
      "               precision    recall  f1-score   support\n",
      "\n",
      "           0     0.9423    0.9423    0.9423        52\n",
      "           1     0.7143    0.8491    0.7759        53\n",
      "           2     0.9216    0.8246    0.8704        57\n",
      "           3     0.8923    0.9206    0.9062        63\n",
      "           4     1.0000    0.8909    0.9423        55\n",
      "           5     1.0000    1.0000    1.0000        55\n",
      "           6     1.0000    1.0000    1.0000        46\n",
      "\n",
      "    accuracy                         0.9160       381\n",
      "   macro avg     0.9244    0.9182    0.9196       381\n",
      "weighted avg     0.9228    0.9160    0.9177       381\n",
      "\n"
     ]
    },
    {
     "data": {
      "text/plain": [
       "<AxesSubplot:>"
      ]
     },
     "execution_count": 40,
     "metadata": {},
     "output_type": "execute_result"
    },
    {
     "data": {
      "image/png": "[encoded data removed]",
      "text/plain": [
       "<Figure size 432x288 with 2 Axes>"
      ]
     },
     "metadata": {},
     "output_type": "display_data"
    }
   ],
   "source": [
    "# Fit kembali dengan random state terbaik\n",
    "train_features, test_features, train_labels, test_labels = train_test_split(\n",
    "    features, labels, train_size=0.8, random_state=best_random_state)\n",
    "\n",
    "rfc_best = RandomForestClassifier(random_state=best_random_state)\n",
    "rfc_best.fit(train_features, train_labels)\n",
    "\n",
    "train_score = rfc_best.score(train_features, train_labels)\n",
    "test_score = rfc_best.score(test_features, test_labels)\n",
    "\n",
    "rfc_pred = rfc_best.predict(test_features)\n",
    "\n",
    "cm = confusion_matrix(test_labels,rfc_pred)\n",
    "\n",
    "report_best = classification_report(test_labels, rfc_pred, digits=4)\n",
    "\n",
    "print(f\"Train score: {train_score:.4f}\")\n",
    "print(f\"Test score: {test_score:.4f}\")\n",
    "\n",
    "print('Classification Report of Random Forest Classifier : \\n', report_best)\n",
    "sns.heatmap(cm,annot=True,fmt=\"d\")"
   ]
  },
  {
   "cell_type": "markdown",
   "id": "079fa0aa",
   "metadata": {
    "papermill": {
     "duration": 0.025635,
     "end_time": "2023-06-17T03:23:24.870555",
     "exception": false,
     "start_time": "2023-06-17T03:23:24.844920",
     "status": "completed"
    },
    "tags": []
   },
   "source": [
    "## Hyperparameter"
   ]
  },
  {
   "cell_type": "markdown",
   "id": "bec303a3",
   "metadata": {
    "papermill": {
     "duration": 0.025684,
     "end_time": "2023-06-17T03:23:24.922016",
     "exception": false,
     "start_time": "2023-06-17T03:23:24.896332",
     "status": "completed"
    },
    "tags": []
   },
   "source": [
    "### Using RandomSearchCV"
   ]
  },
  {
   "cell_type": "code",
   "execution_count": 41,
   "id": "140d7dd1",
   "metadata": {
    "execution": {
     "iopub.execute_input": "2023-06-17T03:23:24.975491Z",
     "iopub.status.busy": "2023-06-17T03:23:24.974789Z",
     "iopub.status.idle": "2023-06-17T03:23:37.508586Z",
     "shell.execute_reply": "2023-06-17T03:23:37.507827Z"
    },
    "papermill": {
     "duration": 12.562979,
     "end_time": "2023-06-17T03:23:37.510495",
     "exception": false,
     "start_time": "2023-06-17T03:23:24.947516",
     "status": "completed"
    },
    "tags": []
   },
   "outputs": [
    {
     "name": "stdout",
     "output_type": "stream",
     "text": [
      "Fitting 5 folds for each of 10 candidates, totalling 50 fits\n",
      "Best Parameters: \n",
      " {'n_estimators': 136, 'min_samples_split': 3, 'min_samples_leaf': 2, 'max_features': 10, 'max_depth': 24, 'criterion': 'gini', 'bootstrap': True}\n",
      "\n",
      "Train Accuracy:  0.9986868023637557\n",
      "Test Accuracy:  0.937007874015748\n",
      "\n",
      "               precision    recall  f1-score   support\n",
      "\n",
      "           0     0.9615    0.9615    0.9615        52\n",
      "           1     0.8545    0.8868    0.8704        53\n",
      "           2     0.9057    0.8421    0.8727        57\n",
      "           3     0.8696    0.9524    0.9091        63\n",
      "           4     1.0000    0.9273    0.9623        55\n",
      "           5     1.0000    1.0000    1.0000        55\n",
      "           6     1.0000    1.0000    1.0000        46\n",
      "\n",
      "    accuracy                         0.9370       381\n",
      "   macro avg     0.9416    0.9386    0.9394       381\n",
      "weighted avg     0.9388    0.9370    0.9372       381\n",
      "\n",
      "Wall time: 29.2 s\n"
     ]
    },
    {
     "data": {
      "text/plain": [
       "<AxesSubplot:>"
      ]
     },
     "execution_count": 41,
     "metadata": {},
     "output_type": "execute_result"
    },
    {
     "data": {
      "image/png": "[encoded data removed]",
      "text/plain": [
       "<Figure size 432x288 with 2 Axes>"
      ]
     },
     "metadata": {},
     "output_type": "display_data"
    }
   ],
   "source": [
    "%%time\n",
    "\n",
    "rfc_h = RandomForestClassifier(random_state = best_random_state)\n",
    "# Narrow down\n",
    "param_random = {\n",
    "    'n_estimators': [int(x) for x in np.linspace(100, 300, num = 12)],\n",
    "    'max_features': ['sqrt', 'log2', 10],\n",
    "    'max_depth' : [int(x) for x in np.linspace(10, 50, num = 12)],\n",
    "    'min_samples_split': [2, 3, 4],\n",
    "    'min_samples_leaf': [1, 2],\n",
    "    'criterion' : ['gini', 'entropy'],\n",
    "    'bootstrap' : [True, False]\n",
    "}\n",
    "\n",
    "# Create a Randomized Search object\n",
    "random_search = RandomizedSearchCV(estimator=rfc_h,\n",
    "                                   param_distributions=param_random,\n",
    "                                   n_iter = 10,\n",
    "                                   cv=5, \n",
    "                                   verbose=True, \n",
    "                                   n_jobs = -1)\n",
    "\n",
    "# Fit the Randomized Search object to the training data\n",
    "random_search.fit(train_features, train_labels)\n",
    "\n",
    "best_param = random_search.best_params_\n",
    "# Print the best parameters and score\n",
    "print(\"Best Parameters: \\n\", best_param)\n",
    "\n",
    "# Get the best estimator from Randomized Search\n",
    "best_rfc = random_search.best_estimator_\n",
    "\n",
    "# Evaluate the model on train and test sets\n",
    "train_acc = best_rfc.score(train_features, train_labels)\n",
    "test_acc = best_rfc.score(test_features, test_labels)\n",
    "\n",
    "rfc_hyperRS = best_rfc.predict(test_features)\n",
    "cm_hyper = confusion_matrix(test_labels,rfc_hyperRS)\n",
    "report_hyperRS = classification_report(test_labels, rfc_hyperRS, digits=4)\n",
    "\n",
    "print(\"\\nTrain Accuracy: \", train_acc)\n",
    "print(\"Test Accuracy: \", test_acc)\n",
    "\n",
    "print('\\n',report_hyperRS)\n",
    "sns.heatmap(cm_hyper,annot=True,fmt=\"d\")"
   ]
  },
  {
   "cell_type": "markdown",
   "id": "25e39672",
   "metadata": {
    "papermill": {
     "duration": 0.027495,
     "end_time": "2023-06-17T03:23:37.565137",
     "exception": false,
     "start_time": "2023-06-17T03:23:37.537642",
     "status": "completed"
    },
    "tags": []
   },
   "source": [
    "### Using GridSearchCV"
   ]
  },
  {
   "cell_type": "code",
   "execution_count": 42,
   "id": "7680fb93",
   "metadata": {
    "execution": {
     "iopub.execute_input": "2023-06-17T03:23:37.620890Z",
     "iopub.status.busy": "2023-06-17T03:23:37.619635Z",
     "iopub.status.idle": "2023-06-17T03:23:37.627219Z",
     "shell.execute_reply": "2023-06-17T03:23:37.626155Z"
    },
    "papermill": {
     "duration": 0.037754,
     "end_time": "2023-06-17T03:23:37.629283",
     "exception": false,
     "start_time": "2023-06-17T03:23:37.591529",
     "status": "completed"
    },
    "tags": []
   },
   "outputs": [
    {
     "name": "stdout",
     "output_type": "stream",
     "text": [
      "\n",
      " {'n_estimators': [106, 116, 126, 136, 146, 156, 166], 'max_features': [10], 'max_depth': [14, 17, 20, 24, 27, 30, 34], 'min_samples_split': [3], 'min_samples_leaf': [2], 'criterion': ['gini'], 'bootstrap': [True]} \n",
      "\n",
      "Wall time: 2 ms\n"
     ]
    }
   ],
   "source": [
    "%%time\n",
    "\n",
    "n_estRS = best_param['n_estimators']\n",
    "max_dRS = best_param['max_depth']\n",
    "\n",
    "# Set up the parameter grid to search\n",
    "param_grid = {\n",
    "    'n_estimators': [int(x) for x in np.linspace(n_estRS - 30, n_estRS + 30, 7)],\n",
    "    'max_features': [best_param['max_features']],\n",
    "    'max_depth' : [int(x) for x in np.linspace(max_dRS - 10, max_dRS + 10, 7)],\n",
    "    'min_samples_split': [best_param['min_samples_split']],\n",
    "    'min_samples_leaf': [best_param['min_samples_leaf']],\n",
    "    'criterion' : [best_param['criterion']],\n",
    "    'bootstrap' : [best_param['bootstrap']]\n",
    "}\n",
    "\n",
    "print(f'\\n {param_grid} \\n')\n"
   ]
  },
  {
   "cell_type": "code",
   "execution_count": 43,
   "id": "c0159be8",
   "metadata": {
    "execution": {
     "iopub.execute_input": "2023-06-17T03:23:37.684187Z",
     "iopub.status.busy": "2023-06-17T03:23:37.683824Z",
     "iopub.status.idle": "2023-06-17T03:24:03.050896Z",
     "shell.execute_reply": "2023-06-17T03:24:03.049945Z"
    },
    "papermill": {
     "duration": 25.397297,
     "end_time": "2023-06-17T03:24:03.052846",
     "exception": false,
     "start_time": "2023-06-17T03:23:37.655549",
     "status": "completed"
    },
    "tags": []
   },
   "outputs": [
    {
     "name": "stdout",
     "output_type": "stream",
     "text": [
      "Fitting 5 folds for each of 49 candidates, totalling 245 fits\n",
      "Best hyperparameters: {'bootstrap': True, 'criterion': 'gini', 'max_depth': 14, 'max_features': 10, 'min_samples_leaf': 2, 'min_samples_split': 3, 'n_estimators': 136}\n",
      "\n",
      "Train accuracy: 0.9980302035456337\n",
      "Test accuracy: 0.9343832020997376\n",
      "              precision    recall  f1-score   support\n",
      "\n",
      "           0     0.9615    0.9615    0.9615        52\n",
      "           1     0.8393    0.8868    0.8624        53\n",
      "           2     0.9038    0.8246    0.8624        57\n",
      "           3     0.8696    0.9524    0.9091        63\n",
      "           4     1.0000    0.9273    0.9623        55\n",
      "           5     1.0000    1.0000    1.0000        55\n",
      "           6     1.0000    1.0000    1.0000        46\n",
      "\n",
      "    accuracy                         0.9344       381\n",
      "   macro avg     0.9392    0.9361    0.9368       381\n",
      "weighted avg     0.9364    0.9344    0.9345       381\n",
      "\n"
     ]
    },
    {
     "data": {
      "text/plain": [
       "<AxesSubplot:>"
      ]
     },
     "execution_count": 43,
     "metadata": {},
     "output_type": "execute_result"
    },
    {
     "data": {
      "image/png": "[encoded data removed]",
      "text/plain": [
       "<Figure size 432x288 with 2 Axes>"
      ]
     },
     "metadata": {},
     "output_type": "display_data"
    }
   ],
   "source": [
    "\n",
    "rfc_GS = RandomForestClassifier(random_state = best_random_state)\n",
    "\n",
    "# Create GridSearchCV object with 5-fold cross validation\n",
    "CV_rfc = GridSearchCV(estimator=rfc_GS, \n",
    "                      param_grid=param_grid, \n",
    "                      cv=5,\n",
    "                     n_jobs = -1,\n",
    "                     verbose = True,\n",
    "                     )\n",
    "\n",
    "# Fit the GridSearchCV object to the data\n",
    "CV_rfc.fit(train_features, train_labels)\n",
    "\n",
    "# Print the best hyperparameters found\n",
    "print('Best hyperparameters:', CV_rfc.best_params_)\n",
    "\n",
    "best_model = CV_rfc.best_estimator_\n",
    "\n",
    "train_preds = best_model.predict(train_features)\n",
    "test_preds = best_model.predict(test_features)\n",
    "\n",
    "train_acc = accuracy_score(train_labels, train_preds)\n",
    "test_acc = accuracy_score(test_labels, test_preds)\n",
    "\n",
    "cm_hyperGS = confusion_matrix(test_labels,test_preds)\n",
    "report_hyperGS = classification_report(test_labels, test_preds, digits=4)\n",
    "\n",
    "print('\\nTrain accuracy:', train_acc)\n",
    "print('Test accuracy:', test_acc)\n",
    "print(report_hyperGS)\n",
    "sns.heatmap(cm_hyperGS,annot=True,fmt=\"d\")"
   ]
  }
 ],
 "metadata": {
  "kernelspec": {
   "display_name": "Python 3 (ipykernel)",
   "language": "python",
   "name": "python3"
  },
  "language_info": {
   "codemirror_mode": {
    "name": "ipython",
    "version": 3
   },
   "file_extension": ".py",
   "mimetype": "text/x-python",
   "name": "python",
   "nbconvert_exporter": "python",
   "pygments_lexer": "ipython3",
   "version": "3.9.7"
  },
  "papermill": {
   "default_parameters": {},
   "duration": 310.575948,
   "end_time": "2023-06-17T03:24:05.702436",
   "environment_variables": {},
   "exception": null,
   "input_path": "__notebook__.ipynb",
   "output_path": "__notebook__.ipynb",
   "parameters": {},
   "start_time": "2023-06-17T03:18:55.126488",
   "version": "2.4.0"
  },
  "toc": {
   "base_numbering": 1,
   "nav_menu": {},
   "number_sections": true,
   "sideBar": true,
   "skip_h1_title": false,
   "title_cell": "Table of Contents",
   "title_sidebar": "Contents",
   "toc_cell": false,
   "toc_position": {},
   "toc_section_display": true,
   "toc_window_display": false
  }
 },
 "nbformat": 4,
 "nbformat_minor": 5
}
